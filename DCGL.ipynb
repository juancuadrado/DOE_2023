{
  "nbformat": 4,
  "nbformat_minor": 0,
  "metadata": {
    "colab": {
      "provenance": [],
      "include_colab_link": true
    },
    "kernelspec": {
      "name": "python3",
      "display_name": "Python 3"
    },
    "language_info": {
      "name": "python"
    }
  },
  "cells": [
    {
      "cell_type": "markdown",
      "metadata": {
        "id": "view-in-github",
        "colab_type": "text"
      },
      "source": [
        "<a href=\"https://colab.research.google.com/github/juancuadrado/DOE_2023/blob/main/DCGL.ipynb\" target=\"_parent\"><img src=\"https://colab.research.google.com/assets/colab-badge.svg\" alt=\"Open In Colab\"/></a>"
      ]
    },
    {
      "cell_type": "markdown",
      "source": [
        "# **Librerías Básicas para Diseño de Experimentos**"
      ],
      "metadata": {
        "id": "GgVEQ_NhMqmy"
      }
    },
    {
      "cell_type": "code",
      "execution_count": null,
      "metadata": {
        "id": "xm-ySncdMOz_"
      },
      "outputs": [],
      "source": [
        "import pandas as pd\n",
        "import numpy as np\n",
        "import matplotlib.pyplot as plt\n",
        "import matplotlib.colors as mcolors\n",
        "import seaborn as sns\n",
        "import statsmodels\n",
        "import statsmodels.api as sm\n",
        "from statsmodels.formula.api import ols\n",
        "from statsmodels.stats.multicomp import pairwise_tukeyhsd\n",
        "import statsmodels.formula.api as smf\n",
        "import scipy.stats as stats\n",
        "!pip install bioinfokit &>/dev/null\n",
        "from bioinfokit.analys import stat as st\n",
        "!pip install pingouin  &>/dev/null\n",
        "import pingouin as pg"
      ]
    },
    {
      "cell_type": "markdown",
      "source": [
        "#  **Tema 5: Diseños Cuadrados Greco - Latinos - DCGL usando Python: Versión 2**\n",
        "\n",
        "###  **Un experimentador estudia los efectos que tienen cinco Formulaciones (A, B, C, D, E) diferentes de la carga propulsora utilizada en los sistemas de expulsión de la tripulación de un avión basado en la rapidez de combustión. Cada formulación se hace con un lote de materia prima (Columnas: 1, 2, 3, 4, 5, 6) diferente que sólo alcanza para probar cinco formulaciones. Además, las formulaciones son preparadas por varios Operadores (filas: 1, 2, 3, 4, 5, 6), y puede haber diferencias sustanciales en las habilidades y experiencia en cada uno de ellos; por tanto, al parecer, hay dos factores perturbadores que serán “calculados en promedio” en dicho diseño: los lotes de materia prima y los operadores. El diseño apropiado para este problema consiste en probar cada formulación exactamente una vez en cada uno de los operadores. Para esto, se parte del diseño de un Cuadrado Latino. Luego de realizar el análisis del experimento de cuadrado latino anterior, se supone que existe un factor adicional, Los montajes de prueba (letras griegas), que podría ser importante. Este factor considera 5 montajes de prueba diferentes denotados por letras griegas. En la siguiente tabla se muestra el diseño cuadrado grecolatino resultante:**\n",
        "\n",
        "\n",
        "|Operador \\ Lote|\tLote 1  |Lote 2 |Lote 3 |Lote 4 |Lote 5 |\n",
        "|:--:|:--:|:--:|:--:|:--:|:--:|\n",
        "|Op 1\t|A$\\alpha$=24 |B$\\gamma$=20 |C$\\epsilon$=19 |D$\\beta$ = 24 |E$\\delta$=24|\n",
        "|Op 2\t|B$\\beta$=17  |\tC$\\delta$=24|\tD$\\alpha$=30|E$\\gamma$=27|\tA$\\epsilon$=36|\n",
        "|Op 3\t|C$\\gamma$=18 |D$\\epsilon$=38|E$\\beta$=26|A$\\delta$=27|\tB$\\alpha$=21|\n",
        "|Op 4\t|D$\\delta$=26|\tE$\\alpha$=31|\tA$\\gamma$=26|B$\\epsilon$=23|C$\\beta$=22|\n",
        "|Op 5\t|E$\\epsilon$=22|\tA$\\beta$=30|B$\\delta$=20|C$\\alpha$=29|\tD$\\gamma$=31|\n",
        "\n",
        "\n",
        "* **¿Existen diferencias en los diferentes tres Formulaciones de fabricación?**\n",
        "* **¿Existen diferencias en las diferentes tres Montaje experimentales?**\n",
        "\n",
        "\n",
        "\n",
        "#FALTA LATINOS - GRECOS\n",
        "\n",
        "- **Las hipótesis a probar: Para los tratamientos**\n",
        "$$H_{01}: \\mu_{T_1}=\\mu_{T_2}=\\mu_{T_3}=\\mu_{T_4}$$ $$Vs$$ $$H_{a1}: \\mu_{T_i}\\neq\\mu_{T_j}$$ _Al menos un tratamiento(Silos) tiene temperaturas de almacenamiento medios  diferentes_\n",
        "\n",
        "- **Las hipótesis a probar: Para los Bloques**\n",
        "$$H_{02}: \\mu_{B_1}=\\mu_{B_2}=\\mu_{B_3}=\\mu_{B_4}=\\mu_{B_4}$$ $$Vs$$ $$H_{a2}: \\mu_{B_i}\\neq\\mu_{B_j}$$  _Al menos un par de bloque (Día) tiene temperaturas de almacenamiento medios diferentes_\n"
      ],
      "metadata": {
        "id": "FOKrvtlUNpfj"
      }
    },
    {
      "cell_type": "markdown",
      "source": [
        "## **5.1 Los Datos del Problema**"
      ],
      "metadata": {
        "id": "kU_IMEsjTCez"
      }
    },
    {
      "cell_type": "code",
      "source": [
        "## **4.1 Los Datos del Problema**\n",
        "Operador  =   [\"Op_1\", \"Op_2\", \"Op_3\", \"Op_4\", \"Op_5\"]\n",
        "Lote  =  [\"Lote_1\",\"Lote_2\", \"Lote_3\", \"Lote_4\", \"Lote_5\"]\n",
        "Formulaciones = [\"A\", \"B\", \"C\",\"D\",\"E\", \"B\", \"C\", \"D\", \"E\", \"A\", \"C\", \"D\",\"E\",\"A\", \"B\", \"D\", \"E\", \"A\", \"B\", \"C\", \"E\", \"A\", \"B\", \"C\", \"D\"]\n",
        "Montaje =['Alfa', 'Gamma', 'Epsilon',  'Beta', 'Delta','Beta', 'Delta','Alfa', 'Gamma', 'Epsilon', 'Gamma', 'Epsilon',  'Beta', 'Delta','Alfa', 'Delta','Alfa', 'Gamma', 'Epsilon', 'Beta', 'Epsilon', 'Beta', 'Delta', 'Alfa', 'Gamma']\n",
        "Rapidez =[24, 20, 19, 24, 24, 17, 24, 30, 27, 36, 18, 38, 26, 27, 21, 26, 31, 26, 23,22,22,30,20,29,31]"
      ],
      "metadata": {
        "id": "2QNLLNoZMuv-"
      },
      "execution_count": null,
      "outputs": []
    },
    {
      "cell_type": "markdown",
      "source": [
        "## **5.2 Construyamos el dataFrame de los precios y productos**"
      ],
      "metadata": {
        "id": "fdv8XQLrV6BJ"
      }
    },
    {
      "cell_type": "code",
      "source": [
        "## **5.2 Construyamos el dataFrame de los precios y productos**\n",
        "DCGL = pd.DataFrame({'Operador':np.repeat(Operador,5), 'Lote':Lote*5, 'Formulaciones':Formulaciones, 'Montaje':Montaje, 'Rapidez':Rapidez})\n",
        "DCGL"
      ],
      "metadata": {
        "id": "7EkyHkN5MuzW",
        "colab": {
          "base_uri": "https://localhost:8080/",
          "height": 833
        },
        "outputId": "8eafd42f-eb57-4bd0-f497-9e05345ce3f4"
      },
      "execution_count": null,
      "outputs": [
        {
          "output_type": "execute_result",
          "data": {
            "text/plain": [
              "   Operador    Lote Formulaciones  Montaje  Rapidez\n",
              "0      Op_1  Lote_1             A     Alfa       24\n",
              "1      Op_1  Lote_2             B    Gamma       20\n",
              "2      Op_1  Lote_3             C  Epsilon       19\n",
              "3      Op_1  Lote_4             D     Beta       24\n",
              "4      Op_1  Lote_5             E    Delta       24\n",
              "5      Op_2  Lote_1             B     Beta       17\n",
              "6      Op_2  Lote_2             C    Delta       24\n",
              "7      Op_2  Lote_3             D     Alfa       30\n",
              "8      Op_2  Lote_4             E    Gamma       27\n",
              "9      Op_2  Lote_5             A  Epsilon       36\n",
              "10     Op_3  Lote_1             C    Gamma       18\n",
              "11     Op_3  Lote_2             D  Epsilon       38\n",
              "12     Op_3  Lote_3             E     Beta       26\n",
              "13     Op_3  Lote_4             A    Delta       27\n",
              "14     Op_3  Lote_5             B     Alfa       21\n",
              "15     Op_4  Lote_1             D    Delta       26\n",
              "16     Op_4  Lote_2             E     Alfa       31\n",
              "17     Op_4  Lote_3             A    Gamma       26\n",
              "18     Op_4  Lote_4             B  Epsilon       23\n",
              "19     Op_4  Lote_5             C     Beta       22\n",
              "20     Op_5  Lote_1             E  Epsilon       22\n",
              "21     Op_5  Lote_2             A     Beta       30\n",
              "22     Op_5  Lote_3             B    Delta       20\n",
              "23     Op_5  Lote_4             C     Alfa       29\n",
              "24     Op_5  Lote_5             D    Gamma       31"
            ],
            "text/html": [
              "\n",
              "  <div id=\"df-d57557ad-3cff-40d6-bc97-cf3e0eb67a8d\" class=\"colab-df-container\">\n",
              "    <div>\n",
              "<style scoped>\n",
              "    .dataframe tbody tr th:only-of-type {\n",
              "        vertical-align: middle;\n",
              "    }\n",
              "\n",
              "    .dataframe tbody tr th {\n",
              "        vertical-align: top;\n",
              "    }\n",
              "\n",
              "    .dataframe thead th {\n",
              "        text-align: right;\n",
              "    }\n",
              "</style>\n",
              "<table border=\"1\" class=\"dataframe\">\n",
              "  <thead>\n",
              "    <tr style=\"text-align: right;\">\n",
              "      <th></th>\n",
              "      <th>Operador</th>\n",
              "      <th>Lote</th>\n",
              "      <th>Formulaciones</th>\n",
              "      <th>Montaje</th>\n",
              "      <th>Rapidez</th>\n",
              "    </tr>\n",
              "  </thead>\n",
              "  <tbody>\n",
              "    <tr>\n",
              "      <th>0</th>\n",
              "      <td>Op_1</td>\n",
              "      <td>Lote_1</td>\n",
              "      <td>A</td>\n",
              "      <td>Alfa</td>\n",
              "      <td>24</td>\n",
              "    </tr>\n",
              "    <tr>\n",
              "      <th>1</th>\n",
              "      <td>Op_1</td>\n",
              "      <td>Lote_2</td>\n",
              "      <td>B</td>\n",
              "      <td>Gamma</td>\n",
              "      <td>20</td>\n",
              "    </tr>\n",
              "    <tr>\n",
              "      <th>2</th>\n",
              "      <td>Op_1</td>\n",
              "      <td>Lote_3</td>\n",
              "      <td>C</td>\n",
              "      <td>Epsilon</td>\n",
              "      <td>19</td>\n",
              "    </tr>\n",
              "    <tr>\n",
              "      <th>3</th>\n",
              "      <td>Op_1</td>\n",
              "      <td>Lote_4</td>\n",
              "      <td>D</td>\n",
              "      <td>Beta</td>\n",
              "      <td>24</td>\n",
              "    </tr>\n",
              "    <tr>\n",
              "      <th>4</th>\n",
              "      <td>Op_1</td>\n",
              "      <td>Lote_5</td>\n",
              "      <td>E</td>\n",
              "      <td>Delta</td>\n",
              "      <td>24</td>\n",
              "    </tr>\n",
              "    <tr>\n",
              "      <th>5</th>\n",
              "      <td>Op_2</td>\n",
              "      <td>Lote_1</td>\n",
              "      <td>B</td>\n",
              "      <td>Beta</td>\n",
              "      <td>17</td>\n",
              "    </tr>\n",
              "    <tr>\n",
              "      <th>6</th>\n",
              "      <td>Op_2</td>\n",
              "      <td>Lote_2</td>\n",
              "      <td>C</td>\n",
              "      <td>Delta</td>\n",
              "      <td>24</td>\n",
              "    </tr>\n",
              "    <tr>\n",
              "      <th>7</th>\n",
              "      <td>Op_2</td>\n",
              "      <td>Lote_3</td>\n",
              "      <td>D</td>\n",
              "      <td>Alfa</td>\n",
              "      <td>30</td>\n",
              "    </tr>\n",
              "    <tr>\n",
              "      <th>8</th>\n",
              "      <td>Op_2</td>\n",
              "      <td>Lote_4</td>\n",
              "      <td>E</td>\n",
              "      <td>Gamma</td>\n",
              "      <td>27</td>\n",
              "    </tr>\n",
              "    <tr>\n",
              "      <th>9</th>\n",
              "      <td>Op_2</td>\n",
              "      <td>Lote_5</td>\n",
              "      <td>A</td>\n",
              "      <td>Epsilon</td>\n",
              "      <td>36</td>\n",
              "    </tr>\n",
              "    <tr>\n",
              "      <th>10</th>\n",
              "      <td>Op_3</td>\n",
              "      <td>Lote_1</td>\n",
              "      <td>C</td>\n",
              "      <td>Gamma</td>\n",
              "      <td>18</td>\n",
              "    </tr>\n",
              "    <tr>\n",
              "      <th>11</th>\n",
              "      <td>Op_3</td>\n",
              "      <td>Lote_2</td>\n",
              "      <td>D</td>\n",
              "      <td>Epsilon</td>\n",
              "      <td>38</td>\n",
              "    </tr>\n",
              "    <tr>\n",
              "      <th>12</th>\n",
              "      <td>Op_3</td>\n",
              "      <td>Lote_3</td>\n",
              "      <td>E</td>\n",
              "      <td>Beta</td>\n",
              "      <td>26</td>\n",
              "    </tr>\n",
              "    <tr>\n",
              "      <th>13</th>\n",
              "      <td>Op_3</td>\n",
              "      <td>Lote_4</td>\n",
              "      <td>A</td>\n",
              "      <td>Delta</td>\n",
              "      <td>27</td>\n",
              "    </tr>\n",
              "    <tr>\n",
              "      <th>14</th>\n",
              "      <td>Op_3</td>\n",
              "      <td>Lote_5</td>\n",
              "      <td>B</td>\n",
              "      <td>Alfa</td>\n",
              "      <td>21</td>\n",
              "    </tr>\n",
              "    <tr>\n",
              "      <th>15</th>\n",
              "      <td>Op_4</td>\n",
              "      <td>Lote_1</td>\n",
              "      <td>D</td>\n",
              "      <td>Delta</td>\n",
              "      <td>26</td>\n",
              "    </tr>\n",
              "    <tr>\n",
              "      <th>16</th>\n",
              "      <td>Op_4</td>\n",
              "      <td>Lote_2</td>\n",
              "      <td>E</td>\n",
              "      <td>Alfa</td>\n",
              "      <td>31</td>\n",
              "    </tr>\n",
              "    <tr>\n",
              "      <th>17</th>\n",
              "      <td>Op_4</td>\n",
              "      <td>Lote_3</td>\n",
              "      <td>A</td>\n",
              "      <td>Gamma</td>\n",
              "      <td>26</td>\n",
              "    </tr>\n",
              "    <tr>\n",
              "      <th>18</th>\n",
              "      <td>Op_4</td>\n",
              "      <td>Lote_4</td>\n",
              "      <td>B</td>\n",
              "      <td>Epsilon</td>\n",
              "      <td>23</td>\n",
              "    </tr>\n",
              "    <tr>\n",
              "      <th>19</th>\n",
              "      <td>Op_4</td>\n",
              "      <td>Lote_5</td>\n",
              "      <td>C</td>\n",
              "      <td>Beta</td>\n",
              "      <td>22</td>\n",
              "    </tr>\n",
              "    <tr>\n",
              "      <th>20</th>\n",
              "      <td>Op_5</td>\n",
              "      <td>Lote_1</td>\n",
              "      <td>E</td>\n",
              "      <td>Epsilon</td>\n",
              "      <td>22</td>\n",
              "    </tr>\n",
              "    <tr>\n",
              "      <th>21</th>\n",
              "      <td>Op_5</td>\n",
              "      <td>Lote_2</td>\n",
              "      <td>A</td>\n",
              "      <td>Beta</td>\n",
              "      <td>30</td>\n",
              "    </tr>\n",
              "    <tr>\n",
              "      <th>22</th>\n",
              "      <td>Op_5</td>\n",
              "      <td>Lote_3</td>\n",
              "      <td>B</td>\n",
              "      <td>Delta</td>\n",
              "      <td>20</td>\n",
              "    </tr>\n",
              "    <tr>\n",
              "      <th>23</th>\n",
              "      <td>Op_5</td>\n",
              "      <td>Lote_4</td>\n",
              "      <td>C</td>\n",
              "      <td>Alfa</td>\n",
              "      <td>29</td>\n",
              "    </tr>\n",
              "    <tr>\n",
              "      <th>24</th>\n",
              "      <td>Op_5</td>\n",
              "      <td>Lote_5</td>\n",
              "      <td>D</td>\n",
              "      <td>Gamma</td>\n",
              "      <td>31</td>\n",
              "    </tr>\n",
              "  </tbody>\n",
              "</table>\n",
              "</div>\n",
              "    <div class=\"colab-df-buttons\">\n",
              "\n",
              "  <div class=\"colab-df-container\">\n",
              "    <button class=\"colab-df-convert\" onclick=\"convertToInteractive('df-d57557ad-3cff-40d6-bc97-cf3e0eb67a8d')\"\n",
              "            title=\"Convert this dataframe to an interactive table.\"\n",
              "            style=\"display:none;\">\n",
              "\n",
              "  <svg xmlns=\"http://www.w3.org/2000/svg\" height=\"24px\" viewBox=\"0 -960 960 960\">\n",
              "    <path d=\"M120-120v-720h720v720H120Zm60-500h600v-160H180v160Zm220 220h160v-160H400v160Zm0 220h160v-160H400v160ZM180-400h160v-160H180v160Zm440 0h160v-160H620v160ZM180-180h160v-160H180v160Zm440 0h160v-160H620v160Z\"/>\n",
              "  </svg>\n",
              "    </button>\n",
              "\n",
              "  <style>\n",
              "    .colab-df-container {\n",
              "      display:flex;\n",
              "      gap: 12px;\n",
              "    }\n",
              "\n",
              "    .colab-df-convert {\n",
              "      background-color: #E8F0FE;\n",
              "      border: none;\n",
              "      border-radius: 50%;\n",
              "      cursor: pointer;\n",
              "      display: none;\n",
              "      fill: #1967D2;\n",
              "      height: 32px;\n",
              "      padding: 0 0 0 0;\n",
              "      width: 32px;\n",
              "    }\n",
              "\n",
              "    .colab-df-convert:hover {\n",
              "      background-color: #E2EBFA;\n",
              "      box-shadow: 0px 1px 2px rgba(60, 64, 67, 0.3), 0px 1px 3px 1px rgba(60, 64, 67, 0.15);\n",
              "      fill: #174EA6;\n",
              "    }\n",
              "\n",
              "    .colab-df-buttons div {\n",
              "      margin-bottom: 4px;\n",
              "    }\n",
              "\n",
              "    [theme=dark] .colab-df-convert {\n",
              "      background-color: #3B4455;\n",
              "      fill: #D2E3FC;\n",
              "    }\n",
              "\n",
              "    [theme=dark] .colab-df-convert:hover {\n",
              "      background-color: #434B5C;\n",
              "      box-shadow: 0px 1px 3px 1px rgba(0, 0, 0, 0.15);\n",
              "      filter: drop-shadow(0px 1px 2px rgba(0, 0, 0, 0.3));\n",
              "      fill: #FFFFFF;\n",
              "    }\n",
              "  </style>\n",
              "\n",
              "    <script>\n",
              "      const buttonEl =\n",
              "        document.querySelector('#df-d57557ad-3cff-40d6-bc97-cf3e0eb67a8d button.colab-df-convert');\n",
              "      buttonEl.style.display =\n",
              "        google.colab.kernel.accessAllowed ? 'block' : 'none';\n",
              "\n",
              "      async function convertToInteractive(key) {\n",
              "        const element = document.querySelector('#df-d57557ad-3cff-40d6-bc97-cf3e0eb67a8d');\n",
              "        const dataTable =\n",
              "          await google.colab.kernel.invokeFunction('convertToInteractive',\n",
              "                                                    [key], {});\n",
              "        if (!dataTable) return;\n",
              "\n",
              "        const docLinkHtml = 'Like what you see? Visit the ' +\n",
              "          '<a target=\"_blank\" href=https://colab.research.google.com/notebooks/data_table.ipynb>data table notebook</a>'\n",
              "          + ' to learn more about interactive tables.';\n",
              "        element.innerHTML = '';\n",
              "        dataTable['output_type'] = 'display_data';\n",
              "        await google.colab.output.renderOutput(dataTable, element);\n",
              "        const docLink = document.createElement('div');\n",
              "        docLink.innerHTML = docLinkHtml;\n",
              "        element.appendChild(docLink);\n",
              "      }\n",
              "    </script>\n",
              "  </div>\n",
              "\n",
              "\n",
              "<div id=\"df-c62b7b11-d573-4f62-91d2-840a59c9c136\">\n",
              "  <button class=\"colab-df-quickchart\" onclick=\"quickchart('df-c62b7b11-d573-4f62-91d2-840a59c9c136')\"\n",
              "            title=\"Suggest charts.\"\n",
              "            style=\"display:none;\">\n",
              "\n",
              "<svg xmlns=\"http://www.w3.org/2000/svg\" height=\"24px\"viewBox=\"0 0 24 24\"\n",
              "     width=\"24px\">\n",
              "    <g>\n",
              "        <path d=\"M19 3H5c-1.1 0-2 .9-2 2v14c0 1.1.9 2 2 2h14c1.1 0 2-.9 2-2V5c0-1.1-.9-2-2-2zM9 17H7v-7h2v7zm4 0h-2V7h2v10zm4 0h-2v-4h2v4z\"/>\n",
              "    </g>\n",
              "</svg>\n",
              "  </button>\n",
              "\n",
              "<style>\n",
              "  .colab-df-quickchart {\n",
              "      --bg-color: #E8F0FE;\n",
              "      --fill-color: #1967D2;\n",
              "      --hover-bg-color: #E2EBFA;\n",
              "      --hover-fill-color: #174EA6;\n",
              "      --disabled-fill-color: #AAA;\n",
              "      --disabled-bg-color: #DDD;\n",
              "  }\n",
              "\n",
              "  [theme=dark] .colab-df-quickchart {\n",
              "      --bg-color: #3B4455;\n",
              "      --fill-color: #D2E3FC;\n",
              "      --hover-bg-color: #434B5C;\n",
              "      --hover-fill-color: #FFFFFF;\n",
              "      --disabled-bg-color: #3B4455;\n",
              "      --disabled-fill-color: #666;\n",
              "  }\n",
              "\n",
              "  .colab-df-quickchart {\n",
              "    background-color: var(--bg-color);\n",
              "    border: none;\n",
              "    border-radius: 50%;\n",
              "    cursor: pointer;\n",
              "    display: none;\n",
              "    fill: var(--fill-color);\n",
              "    height: 32px;\n",
              "    padding: 0;\n",
              "    width: 32px;\n",
              "  }\n",
              "\n",
              "  .colab-df-quickchart:hover {\n",
              "    background-color: var(--hover-bg-color);\n",
              "    box-shadow: 0 1px 2px rgba(60, 64, 67, 0.3), 0 1px 3px 1px rgba(60, 64, 67, 0.15);\n",
              "    fill: var(--button-hover-fill-color);\n",
              "  }\n",
              "\n",
              "  .colab-df-quickchart-complete:disabled,\n",
              "  .colab-df-quickchart-complete:disabled:hover {\n",
              "    background-color: var(--disabled-bg-color);\n",
              "    fill: var(--disabled-fill-color);\n",
              "    box-shadow: none;\n",
              "  }\n",
              "\n",
              "  .colab-df-spinner {\n",
              "    border: 2px solid var(--fill-color);\n",
              "    border-color: transparent;\n",
              "    border-bottom-color: var(--fill-color);\n",
              "    animation:\n",
              "      spin 1s steps(1) infinite;\n",
              "  }\n",
              "\n",
              "  @keyframes spin {\n",
              "    0% {\n",
              "      border-color: transparent;\n",
              "      border-bottom-color: var(--fill-color);\n",
              "      border-left-color: var(--fill-color);\n",
              "    }\n",
              "    20% {\n",
              "      border-color: transparent;\n",
              "      border-left-color: var(--fill-color);\n",
              "      border-top-color: var(--fill-color);\n",
              "    }\n",
              "    30% {\n",
              "      border-color: transparent;\n",
              "      border-left-color: var(--fill-color);\n",
              "      border-top-color: var(--fill-color);\n",
              "      border-right-color: var(--fill-color);\n",
              "    }\n",
              "    40% {\n",
              "      border-color: transparent;\n",
              "      border-right-color: var(--fill-color);\n",
              "      border-top-color: var(--fill-color);\n",
              "    }\n",
              "    60% {\n",
              "      border-color: transparent;\n",
              "      border-right-color: var(--fill-color);\n",
              "    }\n",
              "    80% {\n",
              "      border-color: transparent;\n",
              "      border-right-color: var(--fill-color);\n",
              "      border-bottom-color: var(--fill-color);\n",
              "    }\n",
              "    90% {\n",
              "      border-color: transparent;\n",
              "      border-bottom-color: var(--fill-color);\n",
              "    }\n",
              "  }\n",
              "</style>\n",
              "\n",
              "  <script>\n",
              "    async function quickchart(key) {\n",
              "      const quickchartButtonEl =\n",
              "        document.querySelector('#' + key + ' button');\n",
              "      quickchartButtonEl.disabled = true;  // To prevent multiple clicks.\n",
              "      quickchartButtonEl.classList.add('colab-df-spinner');\n",
              "      try {\n",
              "        const charts = await google.colab.kernel.invokeFunction(\n",
              "            'suggestCharts', [key], {});\n",
              "      } catch (error) {\n",
              "        console.error('Error during call to suggestCharts:', error);\n",
              "      }\n",
              "      quickchartButtonEl.classList.remove('colab-df-spinner');\n",
              "      quickchartButtonEl.classList.add('colab-df-quickchart-complete');\n",
              "    }\n",
              "    (() => {\n",
              "      let quickchartButtonEl =\n",
              "        document.querySelector('#df-c62b7b11-d573-4f62-91d2-840a59c9c136 button');\n",
              "      quickchartButtonEl.style.display =\n",
              "        google.colab.kernel.accessAllowed ? 'block' : 'none';\n",
              "    })();\n",
              "  </script>\n",
              "</div>\n",
              "    </div>\n",
              "  </div>\n"
            ]
          },
          "metadata": {},
          "execution_count": 28
        }
      ]
    },
    {
      "cell_type": "markdown",
      "source": [
        "## **5.5. BoxPlot para DCL - TGP múltiple**"
      ],
      "metadata": {
        "id": "-OLDnC3cW6RO"
      }
    },
    {
      "cell_type": "code",
      "source": [
        "fig, axs = plt.subplots(1, 4, figsize=(18, 10))\n",
        "axs[0].set_title('Rapidez vs Formulaciones')\n",
        "sns.boxplot(x=\"Formulaciones\", y=\"Rapidez\", data=DCGL, ax=axs[0])\n",
        "sns.swarmplot(x=\"Formulaciones\", y=\"Rapidez\", data=DCGL, color='black',\n",
        "              alpha = 0.5, ax=axs[0])\n",
        "\n",
        "axs[1].set_title('Rapidez vs Montaje')\n",
        "sns.boxplot(x=\"Montaje\", y=\"Rapidez\", data=DCGL, ax=axs[1])\n",
        "sns.swarmplot(x=\"Montaje\", y=\"Rapidez\", data=DCGL, color='black',\n",
        "              alpha = 0.5, ax=axs[1])\n",
        "axs[2].set_title('Rapidez vs Operador')\n",
        "sns.boxplot(x=\"Operador\", y=\"Rapidez\", data=DCGL, ax=axs[2])\n",
        "sns.swarmplot(x=\"Operador\", y=\"Rapidez\", data=DCGL, color='black',\n",
        "              alpha = 0.5, ax=axs[2])\n",
        "\n",
        "axs[3].set_title('Rapidez vs Lote')\n",
        "sns.boxplot(x=\"Lote\", y=\"Rapidez\", data=DCGL, ax=axs[3])\n",
        "sns.swarmplot(x=\"Lote\", y=\"Rapidez\", data=DCGL, color='black',\n",
        "              alpha = 0.5, ax=axs[3])"
      ],
      "metadata": {
        "colab": {
          "base_uri": "https://localhost:8080/",
          "height": 819
        },
        "id": "UN5N_GDaYKek",
        "outputId": "ad51b0d0-01f5-4db2-9a3e-2ec59dcba95b"
      },
      "execution_count": null,
      "outputs": [
        {
          "output_type": "execute_result",
          "data": {
            "text/plain": [
              "<Axes: title={'center': 'Rapidez vs Lote'}, xlabel='Lote', ylabel='Rapidez'>"
            ]
          },
          "metadata": {},
          "execution_count": 29
        },
        {
          "output_type": "display_data",
          "data": {
            "text/plain": [
              "<Figure size 1800x1000 with 4 Axes>"
            ],
            "image/png": "[encoded data removed]"
          },
          "metadata": {}
        }
      ]
    },
    {
      "cell_type": "markdown",
      "source": [
        "## **5.6 Diagrama Bivariado SI es sposible dado que  hay replicas**"
      ],
      "metadata": {
        "id": "2ku_4PLUcG0U"
      }
    },
    {
      "cell_type": "code",
      "source": [
        "## **5.6 Diagrama Bivariado  es sposible dado que  hay replicas**\n",
        "fig, ax = plt.subplots(1, 1, figsize=(8, 4))\n",
        "ax.set_title('Rapidez vs Formulaciones y Montaje')\n",
        "sns.boxplot(x=\"Formulaciones\", y=\"Rapidez\", hue='Montaje', data=DCGL, ax=ax);"
      ],
      "metadata": {
        "colab": {
          "base_uri": "https://localhost:8080/",
          "height": 410
        },
        "id": "uI6SaURrMvE_",
        "outputId": "ede44000-cfba-4744-dadc-ac8769be4bd2"
      },
      "execution_count": null,
      "outputs": [
        {
          "output_type": "display_data",
          "data": {
            "text/plain": [
              "<Figure size 800x400 with 1 Axes>"
            ],
            "image/png": "[encoded data removed]"
          },
          "metadata": {}
        }
      ]
    },
    {
      "cell_type": "code",
      "source": [
        "## **5.6 Diagrama Bivariado  es sposible dado que  hay replicas**\n",
        "fig, ax = plt.subplots(1, 1, figsize=(8, 4))\n",
        "ax.set_title('Rapidez vs Formulaciones y Operador')\n",
        "sns.boxplot(x=\"Formulaciones\", y=\"Rapidez\", hue='Operador', data=DCGL, ax=ax);"
      ],
      "metadata": {
        "colab": {
          "base_uri": "https://localhost:8080/",
          "height": 410
        },
        "id": "RuVwWczy6qZ3",
        "outputId": "c1da2b16-5583-4987-d50a-256999913546"
      },
      "execution_count": null,
      "outputs": [
        {
          "output_type": "display_data",
          "data": {
            "text/plain": [
              "<Figure size 800x400 with 1 Axes>"
            ],
            "image/png": "[encoded data removed]"
          },
          "metadata": {}
        }
      ]
    },
    {
      "cell_type": "code",
      "source": [
        "## **5.6 Diagrama Bivariado  es sposible dado que  hay replicas**\n",
        "fig, ax = plt.subplots(1, 1, figsize=(8, 4))\n",
        "ax.set_title('Rapidez vs Formulaciones y Lote')\n",
        "sns.boxplot(x=\"Formulaciones\", y=\"Rapidez\", hue='Lote', data=DCGL, ax=ax);"
      ],
      "metadata": {
        "colab": {
          "base_uri": "https://localhost:8080/",
          "height": 410
        },
        "id": "3huQQ83k68e1",
        "outputId": "ba2a5e43-b007-4488-f6d3-79d48096b10b"
      },
      "execution_count": null,
      "outputs": [
        {
          "output_type": "display_data",
          "data": {
            "text/plain": [
              "<Figure size 800x400 with 1 Axes>"
            ],
            "image/png": "[encoded data removed]"
          },
          "metadata": {}
        }
      ]
    },
    {
      "cell_type": "code",
      "source": [
        "## **5.6 Diagrama Bivariado  es sposible dado que  hay replicas**\n",
        "fig, ax = plt.subplots(1, 1, figsize=(8, 4))\n",
        "ax.set_title('Rapidez vs Montaje y Lote')\n",
        "sns.boxplot(x=\"Montaje\", y=\"Rapidez\", hue='Lote', data=DCGL, ax=ax);"
      ],
      "metadata": {
        "colab": {
          "base_uri": "https://localhost:8080/",
          "height": 410
        },
        "id": "wGjecaNH7RxM",
        "outputId": "2f36f024-f0d5-4795-fe8a-dd2cd42339f9"
      },
      "execution_count": null,
      "outputs": [
        {
          "output_type": "display_data",
          "data": {
            "text/plain": [
              "<Figure size 800x400 with 1 Axes>"
            ],
            "image/png": "[encoded data removed]"
          },
          "metadata": {}
        }
      ]
    },
    {
      "cell_type": "code",
      "source": [
        "## **5.6 Diagrama Bivariado  es sposible dado que  hay replicas**\n",
        "fig, ax = plt.subplots(1, 1, figsize=(8, 4))\n",
        "ax.set_title('Rapidez vs Montaje y Operador')\n",
        "sns.boxplot(x=\"Montaje\", y=\"Rapidez\", hue='Operador', data=DCGL, ax=ax);"
      ],
      "metadata": {
        "colab": {
          "base_uri": "https://localhost:8080/",
          "height": 410
        },
        "id": "6IpFfYhM7kW8",
        "outputId": "84d9b6fe-80b8-43dc-efbd-fb439a821dbd"
      },
      "execution_count": null,
      "outputs": [
        {
          "output_type": "display_data",
          "data": {
            "text/plain": [
              "<Figure size 800x400 with 1 Axes>"
            ],
            "image/png": "[encoded data removed]"
          },
          "metadata": {}
        }
      ]
    },
    {
      "cell_type": "code",
      "source": [
        "## **5.6 Diagrama Bivariado  es sposible dado que  hay replicas**\n",
        "fig, ax = plt.subplots(1, 1, figsize=(8, 4))\n",
        "ax.set_title('Rapidez vs Lote y Operador')\n",
        "sns.boxplot(x=\"Lote\", y=\"Rapidez\", hue='Operador', data=DCGL, ax=ax);"
      ],
      "metadata": {
        "colab": {
          "base_uri": "https://localhost:8080/",
          "height": 410
        },
        "id": "ULX6osdH73cC",
        "outputId": "0a7a0890-f86f-4de0-aa02-10cbc1124712"
      },
      "execution_count": null,
      "outputs": [
        {
          "output_type": "display_data",
          "data": {
            "text/plain": [
              "<Figure size 800x400 with 1 Axes>"
            ],
            "image/png": "[encoded data removed]"
          },
          "metadata": {}
        }
      ]
    },
    {
      "cell_type": "markdown",
      "source": [
        "## **5.7 Análisis de Varianza Tipo II**"
      ],
      "metadata": {
        "id": "jDpfj2e7dAS6"
      }
    },
    {
      "cell_type": "code",
      "source": [
        "# **4.7 Análisis de Varianza Tipo II**\n",
        "modeloDCGL = ols(\"Rapidez ~ Formulaciones + Montaje+Operador+Lote\", data = DCGL).fit()\n",
        "anova_result2 = sm.stats.anova_lm(modeloDCGL, typ=1)\n",
        "print (anova_result2)"
      ],
      "metadata": {
        "colab": {
          "base_uri": "https://localhost:8080/"
        },
        "id": "RCgkFxVIcLJV",
        "outputId": "85a1aa61-c6d0-4b57-ea3b-e6b60e0daa33"
      },
      "execution_count": null,
      "outputs": [
        {
          "output_type": "stream",
          "name": "stdout",
          "text": [
            "                df  sum_sq  mean_sq          F    PR(>F)\n",
            "Formulaciones  4.0   330.0    82.50  10.000000  0.003344\n",
            "Montaje        4.0    62.0    15.50   1.878788  0.207641\n",
            "Operador       4.0    68.0    17.00   2.060606  0.178311\n",
            "Lote           4.0   150.0    37.50   4.545455  0.032930\n",
            "Residual       8.0    66.0     8.25        NaN       NaN\n"
          ]
        }
      ]
    },
    {
      "cell_type": "code",
      "source": [
        "anova_result2"
      ],
      "metadata": {
        "colab": {
          "base_uri": "https://localhost:8080/",
          "height": 206
        },
        "id": "sVevSu2zdJ2C",
        "outputId": "467a18b4-941d-429b-efd4-4cb161dcfa84"
      },
      "execution_count": null,
      "outputs": [
        {
          "output_type": "execute_result",
          "data": {
            "text/plain": [
              "                df  sum_sq  mean_sq          F    PR(>F)\n",
              "Formulaciones  4.0   330.0    82.50  10.000000  0.003344\n",
              "Montaje        4.0    62.0    15.50   1.878788  0.207641\n",
              "Operador       4.0    68.0    17.00   2.060606  0.178311\n",
              "Lote           4.0   150.0    37.50   4.545455  0.032930\n",
              "Residual       8.0    66.0     8.25        NaN       NaN"
            ],
            "text/html": [
              "\n",
              "  <div id=\"df-0f069a78-4a02-4403-8576-67b06e6d9e22\" class=\"colab-df-container\">\n",
              "    <div>\n",
              "<style scoped>\n",
              "    .dataframe tbody tr th:only-of-type {\n",
              "        vertical-align: middle;\n",
              "    }\n",
              "\n",
              "    .dataframe tbody tr th {\n",
              "        vertical-align: top;\n",
              "    }\n",
              "\n",
              "    .dataframe thead th {\n",
              "        text-align: right;\n",
              "    }\n",
              "</style>\n",
              "<table border=\"1\" class=\"dataframe\">\n",
              "  <thead>\n",
              "    <tr style=\"text-align: right;\">\n",
              "      <th></th>\n",
              "      <th>df</th>\n",
              "      <th>sum_sq</th>\n",
              "      <th>mean_sq</th>\n",
              "      <th>F</th>\n",
              "      <th>PR(&gt;F)</th>\n",
              "    </tr>\n",
              "  </thead>\n",
              "  <tbody>\n",
              "    <tr>\n",
              "      <th>Formulaciones</th>\n",
              "      <td>4.0</td>\n",
              "      <td>330.0</td>\n",
              "      <td>82.50</td>\n",
              "      <td>10.000000</td>\n",
              "      <td>0.003344</td>\n",
              "    </tr>\n",
              "    <tr>\n",
              "      <th>Montaje</th>\n",
              "      <td>4.0</td>\n",
              "      <td>62.0</td>\n",
              "      <td>15.50</td>\n",
              "      <td>1.878788</td>\n",
              "      <td>0.207641</td>\n",
              "    </tr>\n",
              "    <tr>\n",
              "      <th>Operador</th>\n",
              "      <td>4.0</td>\n",
              "      <td>68.0</td>\n",
              "      <td>17.00</td>\n",
              "      <td>2.060606</td>\n",
              "      <td>0.178311</td>\n",
              "    </tr>\n",
              "    <tr>\n",
              "      <th>Lote</th>\n",
              "      <td>4.0</td>\n",
              "      <td>150.0</td>\n",
              "      <td>37.50</td>\n",
              "      <td>4.545455</td>\n",
              "      <td>0.032930</td>\n",
              "    </tr>\n",
              "    <tr>\n",
              "      <th>Residual</th>\n",
              "      <td>8.0</td>\n",
              "      <td>66.0</td>\n",
              "      <td>8.25</td>\n",
              "      <td>NaN</td>\n",
              "      <td>NaN</td>\n",
              "    </tr>\n",
              "  </tbody>\n",
              "</table>\n",
              "</div>\n",
              "    <div class=\"colab-df-buttons\">\n",
              "\n",
              "  <div class=\"colab-df-container\">\n",
              "    <button class=\"colab-df-convert\" onclick=\"convertToInteractive('df-0f069a78-4a02-4403-8576-67b06e6d9e22')\"\n",
              "            title=\"Convert this dataframe to an interactive table.\"\n",
              "            style=\"display:none;\">\n",
              "\n",
              "  <svg xmlns=\"http://www.w3.org/2000/svg\" height=\"24px\" viewBox=\"0 -960 960 960\">\n",
              "    <path d=\"M120-120v-720h720v720H120Zm60-500h600v-160H180v160Zm220 220h160v-160H400v160Zm0 220h160v-160H400v160ZM180-400h160v-160H180v160Zm440 0h160v-160H620v160ZM180-180h160v-160H180v160Zm440 0h160v-160H620v160Z\"/>\n",
              "  </svg>\n",
              "    </button>\n",
              "\n",
              "  <style>\n",
              "    .colab-df-container {\n",
              "      display:flex;\n",
              "      gap: 12px;\n",
              "    }\n",
              "\n",
              "    .colab-df-convert {\n",
              "      background-color: #E8F0FE;\n",
              "      border: none;\n",
              "      border-radius: 50%;\n",
              "      cursor: pointer;\n",
              "      display: none;\n",
              "      fill: #1967D2;\n",
              "      height: 32px;\n",
              "      padding: 0 0 0 0;\n",
              "      width: 32px;\n",
              "    }\n",
              "\n",
              "    .colab-df-convert:hover {\n",
              "      background-color: #E2EBFA;\n",
              "      box-shadow: 0px 1px 2px rgba(60, 64, 67, 0.3), 0px 1px 3px 1px rgba(60, 64, 67, 0.15);\n",
              "      fill: #174EA6;\n",
              "    }\n",
              "\n",
              "    .colab-df-buttons div {\n",
              "      margin-bottom: 4px;\n",
              "    }\n",
              "\n",
              "    [theme=dark] .colab-df-convert {\n",
              "      background-color: #3B4455;\n",
              "      fill: #D2E3FC;\n",
              "    }\n",
              "\n",
              "    [theme=dark] .colab-df-convert:hover {\n",
              "      background-color: #434B5C;\n",
              "      box-shadow: 0px 1px 3px 1px rgba(0, 0, 0, 0.15);\n",
              "      filter: drop-shadow(0px 1px 2px rgba(0, 0, 0, 0.3));\n",
              "      fill: #FFFFFF;\n",
              "    }\n",
              "  </style>\n",
              "\n",
              "    <script>\n",
              "      const buttonEl =\n",
              "        document.querySelector('#df-0f069a78-4a02-4403-8576-67b06e6d9e22 button.colab-df-convert');\n",
              "      buttonEl.style.display =\n",
              "        google.colab.kernel.accessAllowed ? 'block' : 'none';\n",
              "\n",
              "      async function convertToInteractive(key) {\n",
              "        const element = document.querySelector('#df-0f069a78-4a02-4403-8576-67b06e6d9e22');\n",
              "        const dataTable =\n",
              "          await google.colab.kernel.invokeFunction('convertToInteractive',\n",
              "                                                    [key], {});\n",
              "        if (!dataTable) return;\n",
              "\n",
              "        const docLinkHtml = 'Like what you see? Visit the ' +\n",
              "          '<a target=\"_blank\" href=https://colab.research.google.com/notebooks/data_table.ipynb>data table notebook</a>'\n",
              "          + ' to learn more about interactive tables.';\n",
              "        element.innerHTML = '';\n",
              "        dataTable['output_type'] = 'display_data';\n",
              "        await google.colab.output.renderOutput(dataTable, element);\n",
              "        const docLink = document.createElement('div');\n",
              "        docLink.innerHTML = docLinkHtml;\n",
              "        element.appendChild(docLink);\n",
              "      }\n",
              "    </script>\n",
              "  </div>\n",
              "\n",
              "\n",
              "<div id=\"df-f1258f65-f33c-408f-bad8-75a09815b7cb\">\n",
              "  <button class=\"colab-df-quickchart\" onclick=\"quickchart('df-f1258f65-f33c-408f-bad8-75a09815b7cb')\"\n",
              "            title=\"Suggest charts.\"\n",
              "            style=\"display:none;\">\n",
              "\n",
              "<svg xmlns=\"http://www.w3.org/2000/svg\" height=\"24px\"viewBox=\"0 0 24 24\"\n",
              "     width=\"24px\">\n",
              "    <g>\n",
              "        <path d=\"M19 3H5c-1.1 0-2 .9-2 2v14c0 1.1.9 2 2 2h14c1.1 0 2-.9 2-2V5c0-1.1-.9-2-2-2zM9 17H7v-7h2v7zm4 0h-2V7h2v10zm4 0h-2v-4h2v4z\"/>\n",
              "    </g>\n",
              "</svg>\n",
              "  </button>\n",
              "\n",
              "<style>\n",
              "  .colab-df-quickchart {\n",
              "      --bg-color: #E8F0FE;\n",
              "      --fill-color: #1967D2;\n",
              "      --hover-bg-color: #E2EBFA;\n",
              "      --hover-fill-color: #174EA6;\n",
              "      --disabled-fill-color: #AAA;\n",
              "      --disabled-bg-color: #DDD;\n",
              "  }\n",
              "\n",
              "  [theme=dark] .colab-df-quickchart {\n",
              "      --bg-color: #3B4455;\n",
              "      --fill-color: #D2E3FC;\n",
              "      --hover-bg-color: #434B5C;\n",
              "      --hover-fill-color: #FFFFFF;\n",
              "      --disabled-bg-color: #3B4455;\n",
              "      --disabled-fill-color: #666;\n",
              "  }\n",
              "\n",
              "  .colab-df-quickchart {\n",
              "    background-color: var(--bg-color);\n",
              "    border: none;\n",
              "    border-radius: 50%;\n",
              "    cursor: pointer;\n",
              "    display: none;\n",
              "    fill: var(--fill-color);\n",
              "    height: 32px;\n",
              "    padding: 0;\n",
              "    width: 32px;\n",
              "  }\n",
              "\n",
              "  .colab-df-quickchart:hover {\n",
              "    background-color: var(--hover-bg-color);\n",
              "    box-shadow: 0 1px 2px rgba(60, 64, 67, 0.3), 0 1px 3px 1px rgba(60, 64, 67, 0.15);\n",
              "    fill: var(--button-hover-fill-color);\n",
              "  }\n",
              "\n",
              "  .colab-df-quickchart-complete:disabled,\n",
              "  .colab-df-quickchart-complete:disabled:hover {\n",
              "    background-color: var(--disabled-bg-color);\n",
              "    fill: var(--disabled-fill-color);\n",
              "    box-shadow: none;\n",
              "  }\n",
              "\n",
              "  .colab-df-spinner {\n",
              "    border: 2px solid var(--fill-color);\n",
              "    border-color: transparent;\n",
              "    border-bottom-color: var(--fill-color);\n",
              "    animation:\n",
              "      spin 1s steps(1) infinite;\n",
              "  }\n",
              "\n",
              "  @keyframes spin {\n",
              "    0% {\n",
              "      border-color: transparent;\n",
              "      border-bottom-color: var(--fill-color);\n",
              "      border-left-color: var(--fill-color);\n",
              "    }\n",
              "    20% {\n",
              "      border-color: transparent;\n",
              "      border-left-color: var(--fill-color);\n",
              "      border-top-color: var(--fill-color);\n",
              "    }\n",
              "    30% {\n",
              "      border-color: transparent;\n",
              "      border-left-color: var(--fill-color);\n",
              "      border-top-color: var(--fill-color);\n",
              "      border-right-color: var(--fill-color);\n",
              "    }\n",
              "    40% {\n",
              "      border-color: transparent;\n",
              "      border-right-color: var(--fill-color);\n",
              "      border-top-color: var(--fill-color);\n",
              "    }\n",
              "    60% {\n",
              "      border-color: transparent;\n",
              "      border-right-color: var(--fill-color);\n",
              "    }\n",
              "    80% {\n",
              "      border-color: transparent;\n",
              "      border-right-color: var(--fill-color);\n",
              "      border-bottom-color: var(--fill-color);\n",
              "    }\n",
              "    90% {\n",
              "      border-color: transparent;\n",
              "      border-bottom-color: var(--fill-color);\n",
              "    }\n",
              "  }\n",
              "</style>\n",
              "\n",
              "  <script>\n",
              "    async function quickchart(key) {\n",
              "      const quickchartButtonEl =\n",
              "        document.querySelector('#' + key + ' button');\n",
              "      quickchartButtonEl.disabled = true;  // To prevent multiple clicks.\n",
              "      quickchartButtonEl.classList.add('colab-df-spinner');\n",
              "      try {\n",
              "        const charts = await google.colab.kernel.invokeFunction(\n",
              "            'suggestCharts', [key], {});\n",
              "      } catch (error) {\n",
              "        console.error('Error during call to suggestCharts:', error);\n",
              "      }\n",
              "      quickchartButtonEl.classList.remove('colab-df-spinner');\n",
              "      quickchartButtonEl.classList.add('colab-df-quickchart-complete');\n",
              "    }\n",
              "    (() => {\n",
              "      let quickchartButtonEl =\n",
              "        document.querySelector('#df-f1258f65-f33c-408f-bad8-75a09815b7cb button');\n",
              "      quickchartButtonEl.style.display =\n",
              "        google.colab.kernel.accessAllowed ? 'block' : 'none';\n",
              "    })();\n",
              "  </script>\n",
              "</div>\n",
              "    </div>\n",
              "  </div>\n"
            ]
          },
          "metadata": {},
          "execution_count": 37
        }
      ]
    },
    {
      "cell_type": "code",
      "source": [
        "print(modeloDCGL.summary())"
      ],
      "metadata": {
        "colab": {
          "base_uri": "https://localhost:8080/"
        },
        "id": "rl0ympdKdUdA",
        "outputId": "1b50c246-6c6e-4e54-d1ec-81f87d35cee9"
      },
      "execution_count": null,
      "outputs": [
        {
          "output_type": "stream",
          "name": "stdout",
          "text": [
            "                            OLS Regression Results                            \n",
            "==============================================================================\n",
            "Dep. Variable:                Rapidez   R-squared:                       0.902\n",
            "Model:                            OLS   Adj. R-squared:                  0.707\n",
            "Method:                 Least Squares   F-statistic:                     4.621\n",
            "Date:                Tue, 31 Oct 2023   Prob (F-statistic):             0.0171\n",
            "Time:                        18:32:35   Log-Likelihood:                -47.608\n",
            "No. Observations:                  25   AIC:                             129.2\n",
            "Df Residuals:                       8   BIC:                             149.9\n",
            "Df Model:                          16                                         \n",
            "Covariance Type:            nonrobust                                         \n",
            "======================================================================================\n",
            "                         coef    std err          t      P>|t|      [0.025      0.975]\n",
            "--------------------------------------------------------------------------------------\n",
            "Intercept             23.0000      2.369      9.711      0.000      17.538      28.462\n",
            "Formulaciones[T.B]    -8.4000      1.817     -4.624      0.002     -12.589      -4.211\n",
            "Formulaciones[T.C]    -6.2000      1.817     -3.413      0.009     -10.389      -2.011\n",
            "Formulaciones[T.D]     1.2000      1.817      0.661      0.527      -2.989       5.389\n",
            "Formulaciones[T.E]    -2.6000      1.817     -1.431      0.190      -6.789       1.589\n",
            "Montaje[T.Beta]       -3.2000      1.817     -1.762      0.116      -7.389       0.989\n",
            "Montaje[T.Delta]      -2.8000      1.817     -1.541      0.162      -6.989       1.389\n",
            "Montaje[T.Epsilon]     0.6000      1.817      0.330      0.750      -3.589       4.789\n",
            "Montaje[T.Gamma]      -2.6000      1.817     -1.431      0.190      -6.789       1.589\n",
            "Operador[T.Op_2]       4.6000      1.817      2.532      0.035       0.411       8.789\n",
            "Operador[T.Op_3]       3.8000      1.817      2.092      0.070      -0.389       7.989\n",
            "Operador[T.Op_4]       3.4000      1.817      1.872      0.098      -0.789       7.589\n",
            "Operador[T.Op_5]       4.2000      1.817      2.312      0.050       0.011       8.389\n",
            "Lote[T.Lote_2]         7.2000      1.817      3.963      0.004       3.011      11.389\n",
            "Lote[T.Lote_3]         2.8000      1.817      1.541      0.162      -1.389       6.989\n",
            "Lote[T.Lote_4]         4.6000      1.817      2.532      0.035       0.411       8.789\n",
            "Lote[T.Lote_5]         5.4000      1.817      2.973      0.018       1.211       9.589\n",
            "==============================================================================\n",
            "Omnibus:                        0.138   Durbin-Watson:                   1.622\n",
            "Prob(Omnibus):                  0.933   Jarque-Bera (JB):                0.356\n",
            "Skew:                           0.045   Prob(JB):                        0.837\n",
            "Kurtosis:                       2.422   Cond. No.                         8.28\n",
            "==============================================================================\n",
            "\n",
            "Notes:\n",
            "[1] Standard Errors assume that the covariance matrix of the errors is correctly specified.\n"
          ]
        }
      ]
    },
    {
      "cell_type": "code",
      "source": [
        "# **4.7 Análisis de Varianza Tipo IiI**\n",
        "modeloDCL = ols(\"Rapidez ~ Formulaciones + Montaje+Operador+Lote\", data = DCGL).fit()\n",
        "anova_result3 = sm.stats.anova_lm(modeloDCL, typ=3)\n",
        "print (anova_result3)"
      ],
      "metadata": {
        "colab": {
          "base_uri": "https://localhost:8080/"
        },
        "id": "yBUMOz4lc2Xd",
        "outputId": "53048c83-19cc-454f-f4e3-94ad022efa83"
      },
      "execution_count": null,
      "outputs": [
        {
          "output_type": "stream",
          "name": "stdout",
          "text": [
            "                   sum_sq   df          F    PR(>F)\n",
            "Intercept      777.941176  1.0  94.295900  0.000011\n",
            "Formulaciones  330.000000  4.0  10.000000  0.003344\n",
            "Montaje         62.000000  4.0   1.878788  0.207641\n",
            "Operador        68.000000  4.0   2.060606  0.178311\n",
            "Lote           150.000000  4.0   4.545455  0.032930\n",
            "Residual        66.000000  8.0        NaN       NaN\n"
          ]
        }
      ]
    },
    {
      "cell_type": "markdown",
      "source": [
        "## **5.9 Comparaciones Múltiples:DCL - TGP**\n",
        "### **a. Comparaciones Múltiples: TGP VS VITAMINAS**"
      ],
      "metadata": {
        "id": "1s6eQxvNgo8u"
      }
    },
    {
      "cell_type": "code",
      "source": [
        "### **a. Comparaciones Múltiples: TGP VS VITAMINAS**\n",
        "tukey = pairwise_tukeyhsd(endog=DCGL[\"Rapidez\"],     # Data\n",
        "                          groups=DCGL[\"Montaje\"],   # Groups\n",
        "                          alpha=0.05)          # Significance level\n",
        "\n",
        "tukey.plot_simultaneous()    # Plot group confidence intervals\n",
        "#plt.vlines(x=200,ymin=-0.5,ymax=14.5, color=\"red\")\n",
        "tukey.summary()"
      ],
      "metadata": {
        "colab": {
          "base_uri": "https://localhost:8080/",
          "height": 794
        },
        "id": "ncj_dVu5fWRI",
        "outputId": "47b42729-c856-4c06-d3ba-306e5b22553f"
      },
      "execution_count": null,
      "outputs": [
        {
          "output_type": "execute_result",
          "data": {
            "text/plain": [
              "<class 'statsmodels.iolib.table.SimpleTable'>"
            ],
            "text/html": [
              "<table class=\"simpletable\">\n",
              "<caption>Multiple Comparison of Means - Tukey HSD, FWER=0.05</caption>\n",
              "<tr>\n",
              "  <th>group1</th>  <th>group2</th>  <th>meandiff</th>  <th>p-adj</th>   <th>lower</th>   <th>upper</th>  <th>reject</th>\n",
              "</tr>\n",
              "<tr>\n",
              "   <td>Alfa</td>    <td>Beta</td>     <td>-3.2</td>   <td>0.8885</td> <td>-13.6861</td> <td>7.2861</td>   <td>False</td>\n",
              "</tr>\n",
              "<tr>\n",
              "   <td>Alfa</td>    <td>Delta</td>    <td>-2.8</td>   <td>0.9278</td> <td>-13.2861</td> <td>7.6861</td>   <td>False</td>\n",
              "</tr>\n",
              "<tr>\n",
              "   <td>Alfa</td>   <td>Epsilon</td>    <td>0.6</td>   <td>0.9998</td>  <td>-9.8861</td> <td>11.0861</td>  <td>False</td>\n",
              "</tr>\n",
              "<tr>\n",
              "   <td>Alfa</td>    <td>Gamma</td>    <td>-2.6</td>   <td>0.9439</td> <td>-13.0861</td> <td>7.8861</td>   <td>False</td>\n",
              "</tr>\n",
              "<tr>\n",
              "   <td>Beta</td>    <td>Delta</td>     <td>0.4</td>     <td>1.0</td>  <td>-10.0861</td> <td>10.8861</td>  <td>False</td>\n",
              "</tr>\n",
              "<tr>\n",
              "   <td>Beta</td>   <td>Epsilon</td>    <td>3.8</td>   <td>0.8123</td>  <td>-6.6861</td> <td>14.2861</td>  <td>False</td>\n",
              "</tr>\n",
              "<tr>\n",
              "   <td>Beta</td>    <td>Gamma</td>     <td>0.6</td>   <td>0.9998</td>  <td>-9.8861</td> <td>11.0861</td>  <td>False</td>\n",
              "</tr>\n",
              "<tr>\n",
              "   <td>Delta</td>  <td>Epsilon</td>    <td>3.4</td>   <td>0.8653</td>  <td>-7.0861</td> <td>13.8861</td>  <td>False</td>\n",
              "</tr>\n",
              "<tr>\n",
              "   <td>Delta</td>   <td>Gamma</td>     <td>0.2</td>     <td>1.0</td>  <td>-10.2861</td> <td>10.6861</td>  <td>False</td>\n",
              "</tr>\n",
              "<tr>\n",
              "  <td>Epsilon</td>  <td>Gamma</td>    <td>-3.2</td>   <td>0.8885</td> <td>-13.6861</td> <td>7.2861</td>   <td>False</td>\n",
              "</tr>\n",
              "</table>"
            ],
            "text/latex": "\\begin{center}\n\\begin{tabular}{ccccccc}\n\\toprule\n\\textbf{group1} & \\textbf{group2} & \\textbf{meandiff} & \\textbf{p-adj} & \\textbf{lower} & \\textbf{upper} & \\textbf{reject}  \\\\\n\\midrule\n      Alfa      &       Beta      &        -3.2       &     0.8885     &    -13.6861    &     7.2861     &      False       \\\\\n      Alfa      &      Delta      &        -2.8       &     0.9278     &    -13.2861    &     7.6861     &      False       \\\\\n      Alfa      &     Epsilon     &        0.6        &     0.9998     &    -9.8861     &    11.0861     &      False       \\\\\n      Alfa      &      Gamma      &        -2.6       &     0.9439     &    -13.0861    &     7.8861     &      False       \\\\\n      Beta      &      Delta      &        0.4        &      1.0       &    -10.0861    &    10.8861     &      False       \\\\\n      Beta      &     Epsilon     &        3.8        &     0.8123     &    -6.6861     &    14.2861     &      False       \\\\\n      Beta      &      Gamma      &        0.6        &     0.9998     &    -9.8861     &    11.0861     &      False       \\\\\n     Delta      &     Epsilon     &        3.4        &     0.8653     &    -7.0861     &    13.8861     &      False       \\\\\n     Delta      &      Gamma      &        0.2        &      1.0       &    -10.2861    &    10.6861     &      False       \\\\\n    Epsilon     &      Gamma      &        -3.2       &     0.8885     &    -13.6861    &     7.2861     &      False       \\\\\n\\bottomrule\n\\end{tabular}\n%\\caption{Multiple Comparison of Means - Tukey HSD, FWER=0.05}\n\\end{center}"
          },
          "metadata": {},
          "execution_count": 40
        },
        {
          "output_type": "display_data",
          "data": {
            "text/plain": [
              "<Figure size 1000x600 with 1 Axes>"
            ],
            "image/png": "[encoded data removed]"
          },
          "metadata": {}
        }
      ]
    },
    {
      "cell_type": "markdown",
      "source": [
        "### **b. Comparaciones Múltiples: TGP VS Razas**"
      ],
      "metadata": {
        "id": "denYt_OShUmj"
      }
    },
    {
      "cell_type": "code",
      "source": [
        "### **b. Comparaciones Múltiples: TGP VS Razas**\n",
        "tukey = pairwise_tukeyhsd(endog=DCGL[\"Rapidez\"],     # Data\n",
        "                          groups=DCGL[\"Montaje\"],   # Groups\n",
        "                          alpha=0.05)           # Significance level\n",
        "\n",
        "tukey.plot_simultaneous()    # Plot group confidence intervals\n",
        "#plt.vlines(x=200,ymin=-0.5,ymax=14.5, color=\"red\")\n",
        "tukey.summary()"
      ],
      "metadata": {
        "colab": {
          "base_uri": "https://localhost:8080/",
          "height": 794
        },
        "id": "fwEWWPVdfWU3",
        "outputId": "46493497-1931-4c88-c380-6d6e835fae63"
      },
      "execution_count": null,
      "outputs": [
        {
          "output_type": "execute_result",
          "data": {
            "text/plain": [
              "<class 'statsmodels.iolib.table.SimpleTable'>"
            ],
            "text/html": [
              "<table class=\"simpletable\">\n",
              "<caption>Multiple Comparison of Means - Tukey HSD, FWER=0.05</caption>\n",
              "<tr>\n",
              "  <th>group1</th>  <th>group2</th>  <th>meandiff</th>  <th>p-adj</th>   <th>lower</th>   <th>upper</th>  <th>reject</th>\n",
              "</tr>\n",
              "<tr>\n",
              "   <td>Alfa</td>    <td>Beta</td>     <td>-3.2</td>   <td>0.8885</td> <td>-13.6861</td> <td>7.2861</td>   <td>False</td>\n",
              "</tr>\n",
              "<tr>\n",
              "   <td>Alfa</td>    <td>Delta</td>    <td>-2.8</td>   <td>0.9278</td> <td>-13.2861</td> <td>7.6861</td>   <td>False</td>\n",
              "</tr>\n",
              "<tr>\n",
              "   <td>Alfa</td>   <td>Epsilon</td>    <td>0.6</td>   <td>0.9998</td>  <td>-9.8861</td> <td>11.0861</td>  <td>False</td>\n",
              "</tr>\n",
              "<tr>\n",
              "   <td>Alfa</td>    <td>Gamma</td>    <td>-2.6</td>   <td>0.9439</td> <td>-13.0861</td> <td>7.8861</td>   <td>False</td>\n",
              "</tr>\n",
              "<tr>\n",
              "   <td>Beta</td>    <td>Delta</td>     <td>0.4</td>     <td>1.0</td>  <td>-10.0861</td> <td>10.8861</td>  <td>False</td>\n",
              "</tr>\n",
              "<tr>\n",
              "   <td>Beta</td>   <td>Epsilon</td>    <td>3.8</td>   <td>0.8123</td>  <td>-6.6861</td> <td>14.2861</td>  <td>False</td>\n",
              "</tr>\n",
              "<tr>\n",
              "   <td>Beta</td>    <td>Gamma</td>     <td>0.6</td>   <td>0.9998</td>  <td>-9.8861</td> <td>11.0861</td>  <td>False</td>\n",
              "</tr>\n",
              "<tr>\n",
              "   <td>Delta</td>  <td>Epsilon</td>    <td>3.4</td>   <td>0.8653</td>  <td>-7.0861</td> <td>13.8861</td>  <td>False</td>\n",
              "</tr>\n",
              "<tr>\n",
              "   <td>Delta</td>   <td>Gamma</td>     <td>0.2</td>     <td>1.0</td>  <td>-10.2861</td> <td>10.6861</td>  <td>False</td>\n",
              "</tr>\n",
              "<tr>\n",
              "  <td>Epsilon</td>  <td>Gamma</td>    <td>-3.2</td>   <td>0.8885</td> <td>-13.6861</td> <td>7.2861</td>   <td>False</td>\n",
              "</tr>\n",
              "</table>"
            ],
            "text/latex": "\\begin{center}\n\\begin{tabular}{ccccccc}\n\\toprule\n\\textbf{group1} & \\textbf{group2} & \\textbf{meandiff} & \\textbf{p-adj} & \\textbf{lower} & \\textbf{upper} & \\textbf{reject}  \\\\\n\\midrule\n      Alfa      &       Beta      &        -3.2       &     0.8885     &    -13.6861    &     7.2861     &      False       \\\\\n      Alfa      &      Delta      &        -2.8       &     0.9278     &    -13.2861    &     7.6861     &      False       \\\\\n      Alfa      &     Epsilon     &        0.6        &     0.9998     &    -9.8861     &    11.0861     &      False       \\\\\n      Alfa      &      Gamma      &        -2.6       &     0.9439     &    -13.0861    &     7.8861     &      False       \\\\\n      Beta      &      Delta      &        0.4        &      1.0       &    -10.0861    &    10.8861     &      False       \\\\\n      Beta      &     Epsilon     &        3.8        &     0.8123     &    -6.6861     &    14.2861     &      False       \\\\\n      Beta      &      Gamma      &        0.6        &     0.9998     &    -9.8861     &    11.0861     &      False       \\\\\n     Delta      &     Epsilon     &        3.4        &     0.8653     &    -7.0861     &    13.8861     &      False       \\\\\n     Delta      &      Gamma      &        0.2        &      1.0       &    -10.2861    &    10.6861     &      False       \\\\\n    Epsilon     &      Gamma      &        -3.2       &     0.8885     &    -13.6861    &     7.2861     &      False       \\\\\n\\bottomrule\n\\end{tabular}\n%\\caption{Multiple Comparison of Means - Tukey HSD, FWER=0.05}\n\\end{center}"
          },
          "metadata": {},
          "execution_count": 41
        },
        {
          "output_type": "display_data",
          "data": {
            "text/plain": [
              "<Figure size 1000x600 with 1 Axes>"
            ],
            "image/png": "[encoded data removed]"
          },
          "metadata": {}
        }
      ]
    },
    {
      "cell_type": "markdown",
      "source": [
        "### **c. Comparaciones Múltiples: TGP VS Patologías**"
      ],
      "metadata": {
        "id": "SMel_Yy9hAqp"
      }
    },
    {
      "cell_type": "code",
      "source": [
        "### **c. Comparaciones Múltiples: TGP VS Patologías**\n",
        "tukey = pairwise_tukeyhsd(endog=DCGL[\"Rapidez\"],     # Data\n",
        "                          groups=DCGL[\"Operador\"],   # Groups\n",
        "                          alpha=0.05)           # Significance level\n",
        "\n",
        "tukey.plot_simultaneous()    # Plot group confidence intervals\n",
        "#plt.vlines(x=200,ymin=-0.5,ymax=14.5, color=\"red\")\n",
        "tukey.summary()"
      ],
      "metadata": {
        "colab": {
          "base_uri": "https://localhost:8080/",
          "height": 794
        },
        "id": "AZwkSfGhfWYm",
        "outputId": "7b3127da-58e4-4f12-86c2-7ad8011a9bc1"
      },
      "execution_count": null,
      "outputs": [
        {
          "output_type": "execute_result",
          "data": {
            "text/plain": [
              "<class 'statsmodels.iolib.table.SimpleTable'>"
            ],
            "text/html": [
              "<table class=\"simpletable\">\n",
              "<caption>Multiple Comparison of Means - Tukey HSD, FWER=0.05</caption>\n",
              "<tr>\n",
              "  <th>group1</th> <th>group2</th> <th>meandiff</th>  <th>p-adj</th>   <th>lower</th>   <th>upper</th>  <th>reject</th>\n",
              "</tr>\n",
              "<tr>\n",
              "   <td>Op_1</td>   <td>Op_2</td>     <td>4.6</td>    <td>0.683</td>  <td>-5.8348</td> <td>15.0348</td>  <td>False</td>\n",
              "</tr>\n",
              "<tr>\n",
              "   <td>Op_1</td>   <td>Op_3</td>     <td>3.8</td>   <td>0.8097</td>  <td>-6.6348</td> <td>14.2348</td>  <td>False</td>\n",
              "</tr>\n",
              "<tr>\n",
              "   <td>Op_1</td>   <td>Op_4</td>     <td>3.4</td>   <td>0.8632</td>  <td>-7.0348</td> <td>13.8348</td>  <td>False</td>\n",
              "</tr>\n",
              "<tr>\n",
              "   <td>Op_1</td>   <td>Op_5</td>     <td>4.2</td>   <td>0.7489</td>  <td>-6.2348</td> <td>14.6348</td>  <td>False</td>\n",
              "</tr>\n",
              "<tr>\n",
              "   <td>Op_2</td>   <td>Op_3</td>    <td>-0.8</td>   <td>0.9993</td> <td>-11.2348</td> <td>9.6348</td>   <td>False</td>\n",
              "</tr>\n",
              "<tr>\n",
              "   <td>Op_2</td>   <td>Op_4</td>    <td>-1.2</td>   <td>0.9967</td> <td>-11.6348</td> <td>9.2348</td>   <td>False</td>\n",
              "</tr>\n",
              "<tr>\n",
              "   <td>Op_2</td>   <td>Op_5</td>    <td>-0.4</td>     <td>1.0</td>  <td>-10.8348</td> <td>10.0348</td>  <td>False</td>\n",
              "</tr>\n",
              "<tr>\n",
              "   <td>Op_3</td>   <td>Op_4</td>    <td>-0.4</td>     <td>1.0</td>  <td>-10.8348</td> <td>10.0348</td>  <td>False</td>\n",
              "</tr>\n",
              "<tr>\n",
              "   <td>Op_3</td>   <td>Op_5</td>     <td>0.4</td>     <td>1.0</td>  <td>-10.0348</td> <td>10.8348</td>  <td>False</td>\n",
              "</tr>\n",
              "<tr>\n",
              "   <td>Op_4</td>   <td>Op_5</td>     <td>0.8</td>   <td>0.9993</td>  <td>-9.6348</td> <td>11.2348</td>  <td>False</td>\n",
              "</tr>\n",
              "</table>"
            ],
            "text/latex": "\\begin{center}\n\\begin{tabular}{ccccccc}\n\\toprule\n\\textbf{group1} & \\textbf{group2} & \\textbf{meandiff} & \\textbf{p-adj} & \\textbf{lower} & \\textbf{upper} & \\textbf{reject}  \\\\\n\\midrule\n     Op\\_1      &      Op\\_2      &        4.6        &     0.683      &    -5.8348     &    15.0348     &      False       \\\\\n     Op\\_1      &      Op\\_3      &        3.8        &     0.8097     &    -6.6348     &    14.2348     &      False       \\\\\n     Op\\_1      &      Op\\_4      &        3.4        &     0.8632     &    -7.0348     &    13.8348     &      False       \\\\\n     Op\\_1      &      Op\\_5      &        4.2        &     0.7489     &    -6.2348     &    14.6348     &      False       \\\\\n     Op\\_2      &      Op\\_3      &        -0.8       &     0.9993     &    -11.2348    &     9.6348     &      False       \\\\\n     Op\\_2      &      Op\\_4      &        -1.2       &     0.9967     &    -11.6348    &     9.2348     &      False       \\\\\n     Op\\_2      &      Op\\_5      &        -0.4       &      1.0       &    -10.8348    &    10.0348     &      False       \\\\\n     Op\\_3      &      Op\\_4      &        -0.4       &      1.0       &    -10.8348    &    10.0348     &      False       \\\\\n     Op\\_3      &      Op\\_5      &        0.4        &      1.0       &    -10.0348    &    10.8348     &      False       \\\\\n     Op\\_4      &      Op\\_5      &        0.8        &     0.9993     &    -9.6348     &    11.2348     &      False       \\\\\n\\bottomrule\n\\end{tabular}\n%\\caption{Multiple Comparison of Means - Tukey HSD, FWER=0.05}\n\\end{center}"
          },
          "metadata": {},
          "execution_count": 42
        },
        {
          "output_type": "display_data",
          "data": {
            "text/plain": [
              "<Figure size 1000x600 with 1 Axes>"
            ],
            "image/png": "[encoded data removed]"
          },
          "metadata": {}
        }
      ]
    },
    {
      "cell_type": "markdown",
      "source": [
        "### **d. Comparaciones Múltiples: TGP VS Patologías**"
      ],
      "metadata": {
        "id": "WYA9s21K-qOv"
      }
    },
    {
      "cell_type": "code",
      "source": [
        "### **d. Comparaciones Múltiples: TGP VS Patologías**\n",
        "tukey = pairwise_tukeyhsd(endog=DCGL[\"Rapidez\"],     # Data\n",
        "                          groups=DCGL[\"Lote\"],   # Groups\n",
        "                          alpha=0.05)           # Significance level\n",
        "\n",
        "tukey.plot_simultaneous()    # Plot group confidence intervals\n",
        "#plt.vlines(x=200,ymin=-0.5,ymax=14.5, color=\"red\")\n",
        "tukey.summary()"
      ],
      "metadata": {
        "id": "tLUXMcalheY9",
        "colab": {
          "base_uri": "https://localhost:8080/",
          "height": 794
        },
        "outputId": "3ef83377-4127-49db-f34a-f1f45922352b"
      },
      "execution_count": null,
      "outputs": [
        {
          "output_type": "execute_result",
          "data": {
            "text/plain": [
              "<class 'statsmodels.iolib.table.SimpleTable'>"
            ],
            "text/html": [
              "<table class=\"simpletable\">\n",
              "<caption>Multiple Comparison of Means - Tukey HSD, FWER=0.05</caption>\n",
              "<tr>\n",
              "  <th>group1</th> <th>group2</th> <th>meandiff</th>  <th>p-adj</th>   <th>lower</th>   <th>upper</th>  <th>reject</th>\n",
              "</tr>\n",
              "<tr>\n",
              "  <td>Lote_1</td> <td>Lote_2</td>    <td>7.2</td>   <td>0.2129</td>  <td>-2.5056</td> <td>16.9056</td>  <td>False</td>\n",
              "</tr>\n",
              "<tr>\n",
              "  <td>Lote_1</td> <td>Lote_3</td>    <td>2.8</td>   <td>0.9069</td>  <td>-6.9056</td> <td>12.5056</td>  <td>False</td>\n",
              "</tr>\n",
              "<tr>\n",
              "  <td>Lote_1</td> <td>Lote_4</td>    <td>4.6</td>   <td>0.6236</td>  <td>-5.1056</td> <td>14.3056</td>  <td>False</td>\n",
              "</tr>\n",
              "<tr>\n",
              "  <td>Lote_1</td> <td>Lote_5</td>    <td>5.4</td>   <td>0.4762</td>  <td>-4.3056</td> <td>15.1056</td>  <td>False</td>\n",
              "</tr>\n",
              "<tr>\n",
              "  <td>Lote_2</td> <td>Lote_3</td>   <td>-4.4</td>   <td>0.6607</td> <td>-14.1056</td> <td>5.3056</td>   <td>False</td>\n",
              "</tr>\n",
              "<tr>\n",
              "  <td>Lote_2</td> <td>Lote_4</td>   <td>-2.6</td>   <td>0.9271</td> <td>-12.3056</td> <td>7.1056</td>   <td>False</td>\n",
              "</tr>\n",
              "<tr>\n",
              "  <td>Lote_2</td> <td>Lote_5</td>   <td>-1.8</td>    <td>0.98</td>  <td>-11.5056</td> <td>7.9056</td>   <td>False</td>\n",
              "</tr>\n",
              "<tr>\n",
              "  <td>Lote_3</td> <td>Lote_4</td>    <td>1.8</td>    <td>0.98</td>   <td>-7.9056</td> <td>11.5056</td>  <td>False</td>\n",
              "</tr>\n",
              "<tr>\n",
              "  <td>Lote_3</td> <td>Lote_5</td>    <td>2.6</td>   <td>0.9271</td>  <td>-7.1056</td> <td>12.3056</td>  <td>False</td>\n",
              "</tr>\n",
              "<tr>\n",
              "  <td>Lote_4</td> <td>Lote_5</td>    <td>0.8</td>   <td>0.9991</td>  <td>-8.9056</td> <td>10.5056</td>  <td>False</td>\n",
              "</tr>\n",
              "</table>"
            ],
            "text/latex": "\\begin{center}\n\\begin{tabular}{ccccccc}\n\\toprule\n\\textbf{group1} & \\textbf{group2} & \\textbf{meandiff} & \\textbf{p-adj} & \\textbf{lower} & \\textbf{upper} & \\textbf{reject}  \\\\\n\\midrule\n    Lote\\_1     &     Lote\\_2     &        7.2        &     0.2129     &    -2.5056     &    16.9056     &      False       \\\\\n    Lote\\_1     &     Lote\\_3     &        2.8        &     0.9069     &    -6.9056     &    12.5056     &      False       \\\\\n    Lote\\_1     &     Lote\\_4     &        4.6        &     0.6236     &    -5.1056     &    14.3056     &      False       \\\\\n    Lote\\_1     &     Lote\\_5     &        5.4        &     0.4762     &    -4.3056     &    15.1056     &      False       \\\\\n    Lote\\_2     &     Lote\\_3     &        -4.4       &     0.6607     &    -14.1056    &     5.3056     &      False       \\\\\n    Lote\\_2     &     Lote\\_4     &        -2.6       &     0.9271     &    -12.3056    &     7.1056     &      False       \\\\\n    Lote\\_2     &     Lote\\_5     &        -1.8       &      0.98      &    -11.5056    &     7.9056     &      False       \\\\\n    Lote\\_3     &     Lote\\_4     &        1.8        &      0.98      &    -7.9056     &    11.5056     &      False       \\\\\n    Lote\\_3     &     Lote\\_5     &        2.6        &     0.9271     &    -7.1056     &    12.3056     &      False       \\\\\n    Lote\\_4     &     Lote\\_5     &        0.8        &     0.9991     &    -8.9056     &    10.5056     &      False       \\\\\n\\bottomrule\n\\end{tabular}\n%\\caption{Multiple Comparison of Means - Tukey HSD, FWER=0.05}\n\\end{center}"
          },
          "metadata": {},
          "execution_count": 43
        },
        {
          "output_type": "display_data",
          "data": {
            "text/plain": [
              "<Figure size 1000x600 with 1 Axes>"
            ],
            "image/png": "[encoded data removed]"
          },
          "metadata": {}
        }
      ]
    },
    {
      "cell_type": "markdown",
      "source": [
        "### **e. Comparaciones Múltiples Forma 2**"
      ],
      "metadata": {
        "id": "po3YKv7vif5j"
      }
    },
    {
      "cell_type": "code",
      "source": [
        "# **e. Comparaciones Múltiples Forma 2**\n",
        "pg.pairwise_ttests(\n",
        "    dv      = 'Rapidez',\n",
        "    within  = 'Formulaciones',\n",
        "    subject = 'Montaje',\n",
        "    padjust = 'holm',\n",
        "    data    = DCGL\n",
        ")"
      ],
      "metadata": {
        "colab": {
          "base_uri": "https://localhost:8080/",
          "height": 397
        },
        "id": "M8XGh-1phedG",
        "outputId": "b7a49778-d834-4674-8ce4-ebdd0ac12c2a"
      },
      "execution_count": null,
      "outputs": [
        {
          "output_type": "stream",
          "name": "stderr",
          "text": [
            "/usr/local/lib/python3.10/dist-packages/pingouin/pairwise.py:28: UserWarning: pairwise_ttests is deprecated, use pairwise_tests instead.\n",
            "  warnings.warn(\"pairwise_ttests is deprecated, use pairwise_tests instead.\", UserWarning)\n"
          ]
        },
        {
          "output_type": "execute_result",
          "data": {
            "text/plain": [
              "        Contrast  A  B  Paired  Parametric         T  dof alternative  \\\n",
              "0  Formulaciones  A  B    True        True  4.221159  4.0   two-sided   \n",
              "1  Formulaciones  A  C    True        True  1.723553  4.0   two-sided   \n",
              "2  Formulaciones  A  D    True        True -0.551178  4.0   two-sided   \n",
              "3  Formulaciones  A  E    True        True  0.754972  4.0   two-sided   \n",
              "4  Formulaciones  B  C    True        True -0.979958  4.0   two-sided   \n",
              "5  Formulaciones  B  D    True        True -6.000000  4.0   two-sided   \n",
              "6  Formulaciones  B  E    True        True -2.921998  4.0   two-sided   \n",
              "7  Formulaciones  C  D    True        True -2.032170  4.0   two-sided   \n",
              "8  Formulaciones  C  E    True        True -2.394684  4.0   two-sided   \n",
              "9  Formulaciones  D  E    True        True  1.176070  4.0   two-sided   \n",
              "\n",
              "      p-unc    p-corr p-adjust    BF10    hedges  \n",
              "0  0.013465  0.121186     holm   5.686  2.084336  \n",
              "1  0.159884  0.799420     holm   0.987  1.235328  \n",
              "2  0.610850  1.000000     holm   0.449 -0.214638  \n",
              "3  0.492281  1.000000     holm   0.497  0.575523  \n",
              "4  0.382592  1.000000     holm   0.569 -0.573625  \n",
              "5  0.003883  0.038825     holm  13.991 -2.106118  \n",
              "6  0.043157  0.345258     holm   2.464 -1.840695  \n",
              "7  0.111936  0.671616     holm   1.259 -1.357289  \n",
              "8  0.074786  0.523505     holm   1.669 -0.828588  \n",
              "9  0.304782  1.000000     holm   0.651  0.760848  "
            ],
            "text/html": [
              "\n",
              "  <div id=\"df-af228e18-6607-40dd-afd5-969571997f08\" class=\"colab-df-container\">\n",
              "    <div>\n",
              "<style scoped>\n",
              "    .dataframe tbody tr th:only-of-type {\n",
              "        vertical-align: middle;\n",
              "    }\n",
              "\n",
              "    .dataframe tbody tr th {\n",
              "        vertical-align: top;\n",
              "    }\n",
              "\n",
              "    .dataframe thead th {\n",
              "        text-align: right;\n",
              "    }\n",
              "</style>\n",
              "<table border=\"1\" class=\"dataframe\">\n",
              "  <thead>\n",
              "    <tr style=\"text-align: right;\">\n",
              "      <th></th>\n",
              "      <th>Contrast</th>\n",
              "      <th>A</th>\n",
              "      <th>B</th>\n",
              "      <th>Paired</th>\n",
              "      <th>Parametric</th>\n",
              "      <th>T</th>\n",
              "      <th>dof</th>\n",
              "      <th>alternative</th>\n",
              "      <th>p-unc</th>\n",
              "      <th>p-corr</th>\n",
              "      <th>p-adjust</th>\n",
              "      <th>BF10</th>\n",
              "      <th>hedges</th>\n",
              "    </tr>\n",
              "  </thead>\n",
              "  <tbody>\n",
              "    <tr>\n",
              "      <th>0</th>\n",
              "      <td>Formulaciones</td>\n",
              "      <td>A</td>\n",
              "      <td>B</td>\n",
              "      <td>True</td>\n",
              "      <td>True</td>\n",
              "      <td>4.221159</td>\n",
              "      <td>4.0</td>\n",
              "      <td>two-sided</td>\n",
              "      <td>0.013465</td>\n",
              "      <td>0.121186</td>\n",
              "      <td>holm</td>\n",
              "      <td>5.686</td>\n",
              "      <td>2.084336</td>\n",
              "    </tr>\n",
              "    <tr>\n",
              "      <th>1</th>\n",
              "      <td>Formulaciones</td>\n",
              "      <td>A</td>\n",
              "      <td>C</td>\n",
              "      <td>True</td>\n",
              "      <td>True</td>\n",
              "      <td>1.723553</td>\n",
              "      <td>4.0</td>\n",
              "      <td>two-sided</td>\n",
              "      <td>0.159884</td>\n",
              "      <td>0.799420</td>\n",
              "      <td>holm</td>\n",
              "      <td>0.987</td>\n",
              "      <td>1.235328</td>\n",
              "    </tr>\n",
              "    <tr>\n",
              "      <th>2</th>\n",
              "      <td>Formulaciones</td>\n",
              "      <td>A</td>\n",
              "      <td>D</td>\n",
              "      <td>True</td>\n",
              "      <td>True</td>\n",
              "      <td>-0.551178</td>\n",
              "      <td>4.0</td>\n",
              "      <td>two-sided</td>\n",
              "      <td>0.610850</td>\n",
              "      <td>1.000000</td>\n",
              "      <td>holm</td>\n",
              "      <td>0.449</td>\n",
              "      <td>-0.214638</td>\n",
              "    </tr>\n",
              "    <tr>\n",
              "      <th>3</th>\n",
              "      <td>Formulaciones</td>\n",
              "      <td>A</td>\n",
              "      <td>E</td>\n",
              "      <td>True</td>\n",
              "      <td>True</td>\n",
              "      <td>0.754972</td>\n",
              "      <td>4.0</td>\n",
              "      <td>two-sided</td>\n",
              "      <td>0.492281</td>\n",
              "      <td>1.000000</td>\n",
              "      <td>holm</td>\n",
              "      <td>0.497</td>\n",
              "      <td>0.575523</td>\n",
              "    </tr>\n",
              "    <tr>\n",
              "      <th>4</th>\n",
              "      <td>Formulaciones</td>\n",
              "      <td>B</td>\n",
              "      <td>C</td>\n",
              "      <td>True</td>\n",
              "      <td>True</td>\n",
              "      <td>-0.979958</td>\n",
              "      <td>4.0</td>\n",
              "      <td>two-sided</td>\n",
              "      <td>0.382592</td>\n",
              "      <td>1.000000</td>\n",
              "      <td>holm</td>\n",
              "      <td>0.569</td>\n",
              "      <td>-0.573625</td>\n",
              "    </tr>\n",
              "    <tr>\n",
              "      <th>5</th>\n",
              "      <td>Formulaciones</td>\n",
              "      <td>B</td>\n",
              "      <td>D</td>\n",
              "      <td>True</td>\n",
              "      <td>True</td>\n",
              "      <td>-6.000000</td>\n",
              "      <td>4.0</td>\n",
              "      <td>two-sided</td>\n",
              "      <td>0.003883</td>\n",
              "      <td>0.038825</td>\n",
              "      <td>holm</td>\n",
              "      <td>13.991</td>\n",
              "      <td>-2.106118</td>\n",
              "    </tr>\n",
              "    <tr>\n",
              "      <th>6</th>\n",
              "      <td>Formulaciones</td>\n",
              "      <td>B</td>\n",
              "      <td>E</td>\n",
              "      <td>True</td>\n",
              "      <td>True</td>\n",
              "      <td>-2.921998</td>\n",
              "      <td>4.0</td>\n",
              "      <td>two-sided</td>\n",
              "      <td>0.043157</td>\n",
              "      <td>0.345258</td>\n",
              "      <td>holm</td>\n",
              "      <td>2.464</td>\n",
              "      <td>-1.840695</td>\n",
              "    </tr>\n",
              "    <tr>\n",
              "      <th>7</th>\n",
              "      <td>Formulaciones</td>\n",
              "      <td>C</td>\n",
              "      <td>D</td>\n",
              "      <td>True</td>\n",
              "      <td>True</td>\n",
              "      <td>-2.032170</td>\n",
              "      <td>4.0</td>\n",
              "      <td>two-sided</td>\n",
              "      <td>0.111936</td>\n",
              "      <td>0.671616</td>\n",
              "      <td>holm</td>\n",
              "      <td>1.259</td>\n",
              "      <td>-1.357289</td>\n",
              "    </tr>\n",
              "    <tr>\n",
              "      <th>8</th>\n",
              "      <td>Formulaciones</td>\n",
              "      <td>C</td>\n",
              "      <td>E</td>\n",
              "      <td>True</td>\n",
              "      <td>True</td>\n",
              "      <td>-2.394684</td>\n",
              "      <td>4.0</td>\n",
              "      <td>two-sided</td>\n",
              "      <td>0.074786</td>\n",
              "      <td>0.523505</td>\n",
              "      <td>holm</td>\n",
              "      <td>1.669</td>\n",
              "      <td>-0.828588</td>\n",
              "    </tr>\n",
              "    <tr>\n",
              "      <th>9</th>\n",
              "      <td>Formulaciones</td>\n",
              "      <td>D</td>\n",
              "      <td>E</td>\n",
              "      <td>True</td>\n",
              "      <td>True</td>\n",
              "      <td>1.176070</td>\n",
              "      <td>4.0</td>\n",
              "      <td>two-sided</td>\n",
              "      <td>0.304782</td>\n",
              "      <td>1.000000</td>\n",
              "      <td>holm</td>\n",
              "      <td>0.651</td>\n",
              "      <td>0.760848</td>\n",
              "    </tr>\n",
              "  </tbody>\n",
              "</table>\n",
              "</div>\n",
              "    <div class=\"colab-df-buttons\">\n",
              "\n",
              "  <div class=\"colab-df-container\">\n",
              "    <button class=\"colab-df-convert\" onclick=\"convertToInteractive('df-af228e18-6607-40dd-afd5-969571997f08')\"\n",
              "            title=\"Convert this dataframe to an interactive table.\"\n",
              "            style=\"display:none;\">\n",
              "\n",
              "  <svg xmlns=\"http://www.w3.org/2000/svg\" height=\"24px\" viewBox=\"0 -960 960 960\">\n",
              "    <path d=\"M120-120v-720h720v720H120Zm60-500h600v-160H180v160Zm220 220h160v-160H400v160Zm0 220h160v-160H400v160ZM180-400h160v-160H180v160Zm440 0h160v-160H620v160ZM180-180h160v-160H180v160Zm440 0h160v-160H620v160Z\"/>\n",
              "  </svg>\n",
              "    </button>\n",
              "\n",
              "  <style>\n",
              "    .colab-df-container {\n",
              "      display:flex;\n",
              "      gap: 12px;\n",
              "    }\n",
              "\n",
              "    .colab-df-convert {\n",
              "      background-color: #E8F0FE;\n",
              "      border: none;\n",
              "      border-radius: 50%;\n",
              "      cursor: pointer;\n",
              "      display: none;\n",
              "      fill: #1967D2;\n",
              "      height: 32px;\n",
              "      padding: 0 0 0 0;\n",
              "      width: 32px;\n",
              "    }\n",
              "\n",
              "    .colab-df-convert:hover {\n",
              "      background-color: #E2EBFA;\n",
              "      box-shadow: 0px 1px 2px rgba(60, 64, 67, 0.3), 0px 1px 3px 1px rgba(60, 64, 67, 0.15);\n",
              "      fill: #174EA6;\n",
              "    }\n",
              "\n",
              "    .colab-df-buttons div {\n",
              "      margin-bottom: 4px;\n",
              "    }\n",
              "\n",
              "    [theme=dark] .colab-df-convert {\n",
              "      background-color: #3B4455;\n",
              "      fill: #D2E3FC;\n",
              "    }\n",
              "\n",
              "    [theme=dark] .colab-df-convert:hover {\n",
              "      background-color: #434B5C;\n",
              "      box-shadow: 0px 1px 3px 1px rgba(0, 0, 0, 0.15);\n",
              "      filter: drop-shadow(0px 1px 2px rgba(0, 0, 0, 0.3));\n",
              "      fill: #FFFFFF;\n",
              "    }\n",
              "  </style>\n",
              "\n",
              "    <script>\n",
              "      const buttonEl =\n",
              "        document.querySelector('#df-af228e18-6607-40dd-afd5-969571997f08 button.colab-df-convert');\n",
              "      buttonEl.style.display =\n",
              "        google.colab.kernel.accessAllowed ? 'block' : 'none';\n",
              "\n",
              "      async function convertToInteractive(key) {\n",
              "        const element = document.querySelector('#df-af228e18-6607-40dd-afd5-969571997f08');\n",
              "        const dataTable =\n",
              "          await google.colab.kernel.invokeFunction('convertToInteractive',\n",
              "                                                    [key], {});\n",
              "        if (!dataTable) return;\n",
              "\n",
              "        const docLinkHtml = 'Like what you see? Visit the ' +\n",
              "          '<a target=\"_blank\" href=https://colab.research.google.com/notebooks/data_table.ipynb>data table notebook</a>'\n",
              "          + ' to learn more about interactive tables.';\n",
              "        element.innerHTML = '';\n",
              "        dataTable['output_type'] = 'display_data';\n",
              "        await google.colab.output.renderOutput(dataTable, element);\n",
              "        const docLink = document.createElement('div');\n",
              "        docLink.innerHTML = docLinkHtml;\n",
              "        element.appendChild(docLink);\n",
              "      }\n",
              "    </script>\n",
              "  </div>\n",
              "\n",
              "\n",
              "<div id=\"df-45d7315a-5bf5-49ca-a74e-dd81f199a222\">\n",
              "  <button class=\"colab-df-quickchart\" onclick=\"quickchart('df-45d7315a-5bf5-49ca-a74e-dd81f199a222')\"\n",
              "            title=\"Suggest charts.\"\n",
              "            style=\"display:none;\">\n",
              "\n",
              "<svg xmlns=\"http://www.w3.org/2000/svg\" height=\"24px\"viewBox=\"0 0 24 24\"\n",
              "     width=\"24px\">\n",
              "    <g>\n",
              "        <path d=\"M19 3H5c-1.1 0-2 .9-2 2v14c0 1.1.9 2 2 2h14c1.1 0 2-.9 2-2V5c0-1.1-.9-2-2-2zM9 17H7v-7h2v7zm4 0h-2V7h2v10zm4 0h-2v-4h2v4z\"/>\n",
              "    </g>\n",
              "</svg>\n",
              "  </button>\n",
              "\n",
              "<style>\n",
              "  .colab-df-quickchart {\n",
              "      --bg-color: #E8F0FE;\n",
              "      --fill-color: #1967D2;\n",
              "      --hover-bg-color: #E2EBFA;\n",
              "      --hover-fill-color: #174EA6;\n",
              "      --disabled-fill-color: #AAA;\n",
              "      --disabled-bg-color: #DDD;\n",
              "  }\n",
              "\n",
              "  [theme=dark] .colab-df-quickchart {\n",
              "      --bg-color: #3B4455;\n",
              "      --fill-color: #D2E3FC;\n",
              "      --hover-bg-color: #434B5C;\n",
              "      --hover-fill-color: #FFFFFF;\n",
              "      --disabled-bg-color: #3B4455;\n",
              "      --disabled-fill-color: #666;\n",
              "  }\n",
              "\n",
              "  .colab-df-quickchart {\n",
              "    background-color: var(--bg-color);\n",
              "    border: none;\n",
              "    border-radius: 50%;\n",
              "    cursor: pointer;\n",
              "    display: none;\n",
              "    fill: var(--fill-color);\n",
              "    height: 32px;\n",
              "    padding: 0;\n",
              "    width: 32px;\n",
              "  }\n",
              "\n",
              "  .colab-df-quickchart:hover {\n",
              "    background-color: var(--hover-bg-color);\n",
              "    box-shadow: 0 1px 2px rgba(60, 64, 67, 0.3), 0 1px 3px 1px rgba(60, 64, 67, 0.15);\n",
              "    fill: var(--button-hover-fill-color);\n",
              "  }\n",
              "\n",
              "  .colab-df-quickchart-complete:disabled,\n",
              "  .colab-df-quickchart-complete:disabled:hover {\n",
              "    background-color: var(--disabled-bg-color);\n",
              "    fill: var(--disabled-fill-color);\n",
              "    box-shadow: none;\n",
              "  }\n",
              "\n",
              "  .colab-df-spinner {\n",
              "    border: 2px solid var(--fill-color);\n",
              "    border-color: transparent;\n",
              "    border-bottom-color: var(--fill-color);\n",
              "    animation:\n",
              "      spin 1s steps(1) infinite;\n",
              "  }\n",
              "\n",
              "  @keyframes spin {\n",
              "    0% {\n",
              "      border-color: transparent;\n",
              "      border-bottom-color: var(--fill-color);\n",
              "      border-left-color: var(--fill-color);\n",
              "    }\n",
              "    20% {\n",
              "      border-color: transparent;\n",
              "      border-left-color: var(--fill-color);\n",
              "      border-top-color: var(--fill-color);\n",
              "    }\n",
              "    30% {\n",
              "      border-color: transparent;\n",
              "      border-left-color: var(--fill-color);\n",
              "      border-top-color: var(--fill-color);\n",
              "      border-right-color: var(--fill-color);\n",
              "    }\n",
              "    40% {\n",
              "      border-color: transparent;\n",
              "      border-right-color: var(--fill-color);\n",
              "      border-top-color: var(--fill-color);\n",
              "    }\n",
              "    60% {\n",
              "      border-color: transparent;\n",
              "      border-right-color: var(--fill-color);\n",
              "    }\n",
              "    80% {\n",
              "      border-color: transparent;\n",
              "      border-right-color: var(--fill-color);\n",
              "      border-bottom-color: var(--fill-color);\n",
              "    }\n",
              "    90% {\n",
              "      border-color: transparent;\n",
              "      border-bottom-color: var(--fill-color);\n",
              "    }\n",
              "  }\n",
              "</style>\n",
              "\n",
              "  <script>\n",
              "    async function quickchart(key) {\n",
              "      const quickchartButtonEl =\n",
              "        document.querySelector('#' + key + ' button');\n",
              "      quickchartButtonEl.disabled = true;  // To prevent multiple clicks.\n",
              "      quickchartButtonEl.classList.add('colab-df-spinner');\n",
              "      try {\n",
              "        const charts = await google.colab.kernel.invokeFunction(\n",
              "            'suggestCharts', [key], {});\n",
              "      } catch (error) {\n",
              "        console.error('Error during call to suggestCharts:', error);\n",
              "      }\n",
              "      quickchartButtonEl.classList.remove('colab-df-spinner');\n",
              "      quickchartButtonEl.classList.add('colab-df-quickchart-complete');\n",
              "    }\n",
              "    (() => {\n",
              "      let quickchartButtonEl =\n",
              "        document.querySelector('#df-45d7315a-5bf5-49ca-a74e-dd81f199a222 button');\n",
              "      quickchartButtonEl.style.display =\n",
              "        google.colab.kernel.accessAllowed ? 'block' : 'none';\n",
              "    })();\n",
              "  </script>\n",
              "</div>\n",
              "    </div>\n",
              "  </div>\n"
            ]
          },
          "metadata": {},
          "execution_count": 44
        }
      ]
    },
    {
      "cell_type": "markdown",
      "source": [
        "## **5.10 Supuestos del Modelo**\n",
        "# **a. Forma 1. Shapiro Wilks**"
      ],
      "metadata": {
        "id": "DPG8G2Dwi1Ak"
      }
    },
    {
      "cell_type": "code",
      "source": [
        "# **a. Forma 1. Shapiro Wilks**\n",
        "stats.shapiro(modeloDCGL.resid)"
      ],
      "metadata": {
        "colab": {
          "base_uri": "https://localhost:8080/"
        },
        "id": "Vn0BW0msfWbY",
        "outputId": "e57cf595-115b-4e98-c3fc-ecff3a4f025f"
      },
      "execution_count": null,
      "outputs": [
        {
          "output_type": "execute_result",
          "data": {
            "text/plain": [
              "ShapiroResult(statistic=0.9796741008758545, pvalue=0.8785701394081116)"
            ]
          },
          "metadata": {},
          "execution_count": 45
        }
      ]
    },
    {
      "cell_type": "markdown",
      "source": [
        "# **b. Prueba gráfica con el gráfico de probabilidad Normal y el Histograma**"
      ],
      "metadata": {
        "id": "hcLiA16IlwTN"
      }
    },
    {
      "cell_type": "code",
      "source": [
        "# **b. Prueba gráfica con el gráfico de probabilidad Normal y el Histograma**\n",
        "fig = plt.figure(figsize= (5, 5))\n",
        "ax = fig.add_subplot(111)\n",
        "normality_plot, stat = stats.probplot(modeloDCGL.resid, plot= plt, rvalue= True)\n",
        "ax.set_title(\"Gráfico de Probabiliad para los residuos\", fontsize= 10)\n",
        "ax.set\n",
        "\n",
        "plt.show()"
      ],
      "metadata": {
        "colab": {
          "base_uri": "https://localhost:8080/",
          "height": 485
        },
        "id": "ITNOXra7jN7F",
        "outputId": "47d0f9bb-1207-4aec-e1cc-06c8c3617470"
      },
      "execution_count": null,
      "outputs": [
        {
          "output_type": "display_data",
          "data": {
            "text/plain": [
              "<Figure size 500x500 with 1 Axes>"
            ],
            "image/png": "[encoded data removed]"
          },
          "metadata": {}
        }
      ]
    },
    {
      "cell_type": "markdown",
      "source": [
        "## **e. Homocedasticidad de los residuos: Usando la prueba de Levene**"
      ],
      "metadata": {
        "id": "iR8hfmevl81c"
      }
    },
    {
      "cell_type": "code",
      "source": [
        "## **1.17 Homocedasticidad - Prueba de Levene**\n",
        "res = st()\n",
        "res.levene(df=DCGL, res_var='Rapidez', xfac_var='Formulaciones')\n",
        "table_leve = res.levene_summary\n",
        "# output\n",
        "\n",
        "print(f'El valor critico Levene es {round(table_leve.Value[0],3)} y el valor p = {round(table_leve.Value[2],1)*100}% > 5%')\n"
      ],
      "metadata": {
        "colab": {
          "base_uri": "https://localhost:8080/"
        },
        "id": "Vv0rPw_bjOMQ",
        "outputId": "b61bb0ef-4baf-4ed5-ff89-1a1d3bd27e0d"
      },
      "execution_count": null,
      "outputs": [
        {
          "output_type": "stream",
          "name": "stdout",
          "text": [
            "El valor critico Levene es 0.586 y el valor p = 70.0% > 5%\n"
          ]
        }
      ]
    },
    {
      "cell_type": "code",
      "source": [
        "## **1.17 Homocedasticidad - Prueba de Levene**\n",
        "res = st()\n",
        "res.levene(df=DCGL, res_var='Rapidez', xfac_var='Operador')\n",
        "table_leve = res.levene_summary\n",
        "# output\n",
        "\n",
        "print(f'El valor critico Levene es {round(table_leve.Value[0],3)} y el valor p = {round(table_leve.Value[2],1)*100}% > 5%')\n"
      ],
      "metadata": {
        "id": "YcGDBNJVjOR7",
        "colab": {
          "base_uri": "https://localhost:8080/"
        },
        "outputId": "e5067efc-5231-44e7-bfcf-c6fadbd0a801"
      },
      "execution_count": null,
      "outputs": [
        {
          "output_type": "stream",
          "name": "stdout",
          "text": [
            "El valor critico Levene es 0.82 y el valor p = 50.0% > 5%\n"
          ]
        }
      ]
    },
    {
      "cell_type": "code",
      "source": [
        "## **1.17 Homocedasticidad - Prueba de Levene**\n",
        "res = st()\n",
        "res.levene(df=DCGL, res_var='Rapidez', xfac_var='Lote')\n",
        "table_leve = res.levene_summary\n",
        "# output\n",
        "\n",
        "print(f'El valor critico Levene es {round(table_leve.Value[0],3)} y el valor p = {round(table_leve.Value[2],1)*100}% > 5%')\n"
      ],
      "metadata": {
        "colab": {
          "base_uri": "https://localhost:8080/"
        },
        "id": "vpaaLo-TAonW",
        "outputId": "8d036b8a-d480-4a83-e7ca-26d919134ee4"
      },
      "execution_count": null,
      "outputs": [
        {
          "output_type": "stream",
          "name": "stdout",
          "text": [
            "El valor critico Levene es 0.737 y el valor p = 60.0% > 5%\n"
          ]
        }
      ]
    },
    {
      "cell_type": "code",
      "source": [
        "## **1.17 Homocedasticidad - Prueba de Levene**\n",
        "res = st()\n",
        "res.levene(df=DCGL, res_var='Rapidez', xfac_var='Montaje')\n",
        "table_leve = res.levene_summary\n",
        "# output\n",
        "\n",
        "print(f'El valor critico Levene es {round(table_leve.Value[0],3)} y el valor p = {round(table_leve.Value[2],1)*100}% > 5%')\n"
      ],
      "metadata": {
        "colab": {
          "base_uri": "https://localhost:8080/"
        },
        "id": "yhNqrgIuAqRj",
        "outputId": "45779dea-acc9-4b32-9e62-2f49272db822"
      },
      "execution_count": null,
      "outputs": [
        {
          "output_type": "stream",
          "name": "stdout",
          "text": [
            "El valor critico Levene es 0.939 y el valor p = 50.0% > 5%\n"
          ]
        }
      ]
    },
    {
      "cell_type": "code",
      "source": [
        "## **1.15 Homocedasticidad - Prueba de Bartlett: Otra forma**\n",
        "res = st()\n",
        "res.bartlett(df=DCGL, res_var='Rapidez', xfac_var='Formulaciones')\n",
        "Barlet_t = res.bartlett_summary\n",
        "\n",
        "\n",
        "print(f'El valor critico Levene es {round(Barlet_t.Value[0],3)} y el valor p = {round(Barlet_t.Value[2],1)*100}% > 5%')\n"
      ],
      "metadata": {
        "colab": {
          "base_uri": "https://localhost:8080/"
        },
        "id": "eMT5z_8WAtmb",
        "outputId": "01517319-adaf-4835-822e-a98396698cb2"
      },
      "execution_count": null,
      "outputs": [
        {
          "output_type": "stream",
          "name": "stdout",
          "text": [
            "El valor critico Levene es 3.082 y el valor p = 50.0% > 5%\n"
          ]
        }
      ]
    },
    {
      "cell_type": "code",
      "source": [
        "## **1.15 Homocedasticidad - Prueba de Bartlett: Otra forma**\n",
        "res = st()\n",
        "res.bartlett(df=DCGL, res_var='Rapidez', xfac_var='Operador')\n",
        "Barlet_t = res.bartlett_summary\n",
        "\n",
        "\n",
        "print(f'El valor critico Levene es {round(Barlet_t.Value[0],3)} y el valor p = {round(Barlet_t.Value[2],1)*100}% > 5%')\n"
      ],
      "metadata": {
        "colab": {
          "base_uri": "https://localhost:8080/"
        },
        "id": "d6OJQk3HAtu-",
        "outputId": "90cfa34f-1c09-4218-e1af-ff46e18555b4"
      },
      "execution_count": null,
      "outputs": [
        {
          "output_type": "stream",
          "name": "stdout",
          "text": [
            "El valor critico Levene es 5.572 y el valor p = 20.0% > 5%\n"
          ]
        }
      ]
    },
    {
      "cell_type": "code",
      "source": [
        "## **1.15 Homocedasticidad - Prueba de Bartlett: Otra forma**\n",
        "res = st()\n",
        "res.bartlett(df=DCGL, res_var='Rapidez', xfac_var='Lote')\n",
        "Barlet_t = res.bartlett_summary\n",
        "\n",
        "\n",
        "print(f'El valor critico Levene es {round(Barlet_t.Value[0],3)} y el valor p = {round(Barlet_t.Value[2],1)*100}% > 5%')\n"
      ],
      "metadata": {
        "colab": {
          "base_uri": "https://localhost:8080/"
        },
        "id": "Ysk3Y6UOAt4E",
        "outputId": "ddea8898-2ce2-4469-d740-9f4dc6a74e57"
      },
      "execution_count": null,
      "outputs": [
        {
          "output_type": "stream",
          "name": "stdout",
          "text": [
            "El valor critico Levene es 4.4 y el valor p = 40.0% > 5%\n"
          ]
        }
      ]
    },
    {
      "cell_type": "code",
      "source": [
        "## **1.15 Homocedasticidad - Prueba de Bartlett: Otra forma**\n",
        "res = st()\n",
        "res.bartlett(df=DCGL, res_var='Rapidez', xfac_var='Montaje')\n",
        "Barlet_t = res.bartlett_summary\n",
        "\n",
        "\n",
        "print(f'El valor critico Levene es {round(Barlet_t.Value[0],3)} y el valor p = {round(Barlet_t.Value[2],1)*100}% > 5%')\n"
      ],
      "metadata": {
        "colab": {
          "base_uri": "https://localhost:8080/"
        },
        "id": "Ebf0-XyzAuCS",
        "outputId": "ee846e4a-f9d0-41d5-d2d1-1a35427cbf39"
      },
      "execution_count": null,
      "outputs": [
        {
          "output_type": "stream",
          "name": "stdout",
          "text": [
            "El valor critico Levene es 5.119 y el valor p = 30.0% > 5%\n"
          ]
        }
      ]
    }
  ]
}